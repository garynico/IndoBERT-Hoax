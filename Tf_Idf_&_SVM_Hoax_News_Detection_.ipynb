{
  "nbformat": 4,
  "nbformat_minor": 0,
  "metadata": {
    "accelerator": "GPU",
    "colab": {
      "name": "Tf-Idf & SVM Hoax News Detection .ipynb",
      "provenance": [],
      "authorship_tag": "ABX9TyN8J0fZ/24d32de6f35Frig",
      "include_colab_link": true
    },
    "kernelspec": {
      "display_name": "Python 3",
      "name": "python3"
    }
  },
  "cells": [
    {
      "cell_type": "markdown",
      "metadata": {
        "id": "view-in-github",
        "colab_type": "text"
      },
      "source": [
        "<a href=\"https://colab.research.google.com/github/garynico/IndoBERT-Hoax/blob/main/Tf_Idf_%26_SVM_Hoax_News_Detection_.ipynb\" target=\"_parent\"><img src=\"https://colab.research.google.com/assets/colab-badge.svg\" alt=\"Open In Colab\"/></a>"
      ]
    },
    {
      "cell_type": "code",
      "metadata": {
        "colab": {
          "base_uri": "https://localhost:8080/"
        },
        "id": "228d9ASE3xn4",
        "outputId": "4b0dd8ca-28fc-45a9-d91b-a78028f3d03e"
      },
      "source": [
        "import pandas as pd\r\n",
        "import numpy as np\r\n",
        "import nltk\r\n",
        "nltk.download('punkt')\r\n",
        "from nltk.tokenize import word_tokenize\r\n",
        "from nltk.corpus import stopwords\r\n",
        "from sklearn.preprocessing import LabelEncoder\r\n",
        "from sklearn.feature_extraction.text import TfidfVectorizer\r\n",
        "from sklearn import model_selection, naive_bayes, svm\r\n",
        "from sklearn.metrics import accuracy_score\r\n",
        "from sklearn.model_selection import train_test_split\r\n",
        "!pip install Sastrawi\r\n",
        "from Sastrawi.Stemmer.StemmerFactory import StemmerFactory\r\n",
        "import matplotlib.pyplot as plt\r\n",
        "from sklearn.metrics import confusion_matrix, classification_report, plot_confusion_matrix"
      ],
      "execution_count": 27,
      "outputs": [
        {
          "output_type": "stream",
          "text": [
            "[nltk_data] Downloading package punkt to /root/nltk_data...\n",
            "[nltk_data]   Package punkt is already up-to-date!\n",
            "Requirement already satisfied: Sastrawi in /usr/local/lib/python3.6/dist-packages (1.0.1)\n"
          ],
          "name": "stdout"
        }
      ]
    },
    {
      "cell_type": "code",
      "metadata": {
        "id": "It1JOE-G4b7T"
      },
      "source": [
        "np.random.seed(500)"
      ],
      "execution_count": 2,
      "outputs": []
    },
    {
      "cell_type": "code",
      "metadata": {
        "id": "1ixNcGn64d_3"
      },
      "source": [
        "factory = StemmerFactory()\r\n",
        "stemmer = factory.create_stemmer()\r\n",
        "Encoder = LabelEncoder()\r\n",
        "Tfidf_vect = TfidfVectorizer()"
      ],
      "execution_count": 3,
      "outputs": []
    },
    {
      "cell_type": "code",
      "metadata": {
        "id": "HxyscWuZ4gRL",
        "colab": {
          "base_uri": "https://localhost:8080/"
        },
        "outputId": "d3106305-1f01-420d-9f35-f1d305b49ca4"
      },
      "source": [
        "\r\n",
        "# Open Datasets\r\n",
        "datasets = pd.read_csv('https://raw.githubusercontent.com/garynico/IndoBERT-Hoax/main/data_resample.csv')\r\n",
        "print(datasets[\"label\"].value_counts())\r\n",
        "\r\n",
        "# Text Normalization using\r\n",
        "# PySastrawi(Word Stemmer for Bahasa Indonesia)\r\n",
        "lower = [stemmer.stem(row.lower()) for row in datasets[\"narasi\"]]\r\n",
        "vectors = [word_tokenize(element) for element in lower]\r\n",
        "labels = datasets[\"label\"]\r\n",
        "\r\n",
        "# Splitting Datasets for feeding to Machine Learning\r\n",
        "Train_X, Test_X, Train_Y, Test_Y = train_test_split(\r\n",
        "    vectors, labels, test_size=0.2, stratify=labels)\r\n",
        "\r\n",
        "# Encoder for Data Label\r\n",
        "Train_Y = Encoder.fit_transform(Train_Y)\r\n",
        "Test_Y = Encoder.fit_transform(Test_Y)\r\n",
        "\r\n",
        "# Create Tfidf Vector\r\n",
        "Tfidf_vect.fit([\"\".join(row) for row in lower])\r\n",
        "\r\n",
        "# Applying Tfidf for Training and Testing Features\r\n",
        "Train_X_Tfidf = Tfidf_vect.transform([\" \".join(row) for row in Train_X])\r\n",
        "Test_X_Tfidf = Tfidf_vect.transform([\" \".join(row) for row in Test_X])\r\n",
        "\r\n",
        "# Classifier - Algorithm - SVM\r\n",
        "# fit the training dataset on the classifier\r\n",
        "SVM = svm.SVC(C=1.0, kernel='linear', degree=1, gamma=\"auto\", verbose=True)\r\n",
        "SVM.fit(Train_X_Tfidf, Train_Y)  # predict the labels on validation dataset\r\n",
        "# Use accuracy_score function to get the accuracy\r\n",
        "predictions_SVM = SVM.predict(Test_X_Tfidf)\r\n",
        "print(\"SVM Accuracy Score -> \", accuracy_score(predictions_SVM, Test_Y)*100)"
      ],
      "execution_count": 31,
      "outputs": [
        {
          "output_type": "stream",
          "text": [
            "1    3465\n",
            "0    3465\n",
            "Name: label, dtype: int64\n",
            "[LibSVM]SVM Accuracy Score ->  89.68253968253968\n"
          ],
          "name": "stdout"
        }
      ]
    },
    {
      "cell_type": "code",
      "metadata": {
        "colab": {
          "base_uri": "https://localhost:8080/"
        },
        "id": "Oxo66yBfPoGb",
        "outputId": "5d3bc30b-6175-478a-8892-881333e0c4cf"
      },
      "source": [
        "print(\"\\nConfusion Matrix of SVM Classifier:\\n\")\r\n",
        "print(confusion_matrix(predictions_SVM, Test_Y))\r\n",
        "print(\"\\nClassification Report of SVM Classifier:\\n\")\r\n",
        "print(classification_report(predictions_SVM, Test_Y)) "
      ],
      "execution_count": 32,
      "outputs": [
        {
          "output_type": "stream",
          "text": [
            "\n",
            "Confusion Matrix of SVM Classifier:\n",
            "\n",
            "[[635  85]\n",
            " [ 58 608]]\n",
            "\n",
            "Classification Report of SVM Classifier:\n",
            "\n",
            "              precision    recall  f1-score   support\n",
            "\n",
            "           0       0.92      0.88      0.90       720\n",
            "           1       0.88      0.91      0.89       666\n",
            "\n",
            "    accuracy                           0.90      1386\n",
            "   macro avg       0.90      0.90      0.90      1386\n",
            "weighted avg       0.90      0.90      0.90      1386\n",
            "\n"
          ],
          "name": "stdout"
        }
      ]
    }
  ]
}