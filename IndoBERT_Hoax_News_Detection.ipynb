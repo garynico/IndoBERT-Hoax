{
  "nbformat": 4,
  "nbformat_minor": 0,
  "metadata": {
    "colab": {
      "name": "IndoBERT Hoax News Detection",
      "provenance": [],
      "collapsed_sections": [],
      "include_colab_link": true
    },
    "kernelspec": {
      "display_name": "Python 3",
      "name": "python3"
    },
    "widgets": {
      "application/vnd.jupyter.widget-state+json": {
        "4f153468e1e1407bbdaf833f1bc7a3ff": {
          "model_module": "@jupyter-widgets/controls",
          "model_name": "HBoxModel",
          "state": {
            "_view_name": "HBoxView",
            "_dom_classes": [],
            "_model_name": "HBoxModel",
            "_view_module": "@jupyter-widgets/controls",
            "_model_module_version": "1.5.0",
            "_view_count": null,
            "_view_module_version": "1.5.0",
            "box_style": "",
            "layout": "IPY_MODEL_3c02c17aafb44947b9d038ad17deff6e",
            "_model_module": "@jupyter-widgets/controls",
            "children": [
              "IPY_MODEL_71f0b1b4b4854c11a18d04f6e0afd2d7",
              "IPY_MODEL_a4bba83807e5438d8e5cf709487f0750"
            ]
          }
        },
        "3c02c17aafb44947b9d038ad17deff6e": {
          "model_module": "@jupyter-widgets/base",
          "model_name": "LayoutModel",
          "state": {
            "_view_name": "LayoutView",
            "grid_template_rows": null,
            "right": null,
            "justify_content": null,
            "_view_module": "@jupyter-widgets/base",
            "overflow": null,
            "_model_module_version": "1.2.0",
            "_view_count": null,
            "flex_flow": null,
            "width": null,
            "min_width": null,
            "border": null,
            "align_items": null,
            "bottom": null,
            "_model_module": "@jupyter-widgets/base",
            "top": null,
            "grid_column": null,
            "overflow_y": null,
            "overflow_x": null,
            "grid_auto_flow": null,
            "grid_area": null,
            "grid_template_columns": null,
            "flex": null,
            "_model_name": "LayoutModel",
            "justify_items": null,
            "grid_row": null,
            "max_height": null,
            "align_content": null,
            "visibility": null,
            "align_self": null,
            "height": null,
            "min_height": null,
            "padding": null,
            "grid_auto_rows": null,
            "grid_gap": null,
            "max_width": null,
            "order": null,
            "_view_module_version": "1.2.0",
            "grid_template_areas": null,
            "object_position": null,
            "object_fit": null,
            "grid_auto_columns": null,
            "margin": null,
            "display": null,
            "left": null
          }
        },
        "71f0b1b4b4854c11a18d04f6e0afd2d7": {
          "model_module": "@jupyter-widgets/controls",
          "model_name": "FloatProgressModel",
          "state": {
            "_view_name": "ProgressView",
            "style": "IPY_MODEL_10242cb935b04be2861bd09cbf708c64",
            "_dom_classes": [],
            "description": "Downloading: 100%",
            "_model_name": "FloatProgressModel",
            "bar_style": "success",
            "max": 229167,
            "_view_module": "@jupyter-widgets/controls",
            "_model_module_version": "1.5.0",
            "value": 229167,
            "_view_count": null,
            "_view_module_version": "1.5.0",
            "orientation": "horizontal",
            "min": 0,
            "description_tooltip": null,
            "_model_module": "@jupyter-widgets/controls",
            "layout": "IPY_MODEL_0d0b99d1efe94fc39d466b6edfad4485"
          }
        },
        "a4bba83807e5438d8e5cf709487f0750": {
          "model_module": "@jupyter-widgets/controls",
          "model_name": "HTMLModel",
          "state": {
            "_view_name": "HTMLView",
            "style": "IPY_MODEL_a2bc36c4ebd442deb9fcbbeefd668c02",
            "_dom_classes": [],
            "description": "",
            "_model_name": "HTMLModel",
            "placeholder": "​",
            "_view_module": "@jupyter-widgets/controls",
            "_model_module_version": "1.5.0",
            "value": " 229k/229k [00:00&lt;00:00, 810kB/s]",
            "_view_count": null,
            "_view_module_version": "1.5.0",
            "description_tooltip": null,
            "_model_module": "@jupyter-widgets/controls",
            "layout": "IPY_MODEL_b7d0b439b66e4221b54cf5714a6bd2f9"
          }
        },
        "10242cb935b04be2861bd09cbf708c64": {
          "model_module": "@jupyter-widgets/controls",
          "model_name": "ProgressStyleModel",
          "state": {
            "_view_name": "StyleView",
            "_model_name": "ProgressStyleModel",
            "description_width": "initial",
            "_view_module": "@jupyter-widgets/base",
            "_model_module_version": "1.5.0",
            "_view_count": null,
            "_view_module_version": "1.2.0",
            "bar_color": null,
            "_model_module": "@jupyter-widgets/controls"
          }
        },
        "0d0b99d1efe94fc39d466b6edfad4485": {
          "model_module": "@jupyter-widgets/base",
          "model_name": "LayoutModel",
          "state": {
            "_view_name": "LayoutView",
            "grid_template_rows": null,
            "right": null,
            "justify_content": null,
            "_view_module": "@jupyter-widgets/base",
            "overflow": null,
            "_model_module_version": "1.2.0",
            "_view_count": null,
            "flex_flow": null,
            "width": null,
            "min_width": null,
            "border": null,
            "align_items": null,
            "bottom": null,
            "_model_module": "@jupyter-widgets/base",
            "top": null,
            "grid_column": null,
            "overflow_y": null,
            "overflow_x": null,
            "grid_auto_flow": null,
            "grid_area": null,
            "grid_template_columns": null,
            "flex": null,
            "_model_name": "LayoutModel",
            "justify_items": null,
            "grid_row": null,
            "max_height": null,
            "align_content": null,
            "visibility": null,
            "align_self": null,
            "height": null,
            "min_height": null,
            "padding": null,
            "grid_auto_rows": null,
            "grid_gap": null,
            "max_width": null,
            "order": null,
            "_view_module_version": "1.2.0",
            "grid_template_areas": null,
            "object_position": null,
            "object_fit": null,
            "grid_auto_columns": null,
            "margin": null,
            "display": null,
            "left": null
          }
        },
        "a2bc36c4ebd442deb9fcbbeefd668c02": {
          "model_module": "@jupyter-widgets/controls",
          "model_name": "DescriptionStyleModel",
          "state": {
            "_view_name": "StyleView",
            "_model_name": "DescriptionStyleModel",
            "description_width": "",
            "_view_module": "@jupyter-widgets/base",
            "_model_module_version": "1.5.0",
            "_view_count": null,
            "_view_module_version": "1.2.0",
            "_model_module": "@jupyter-widgets/controls"
          }
        },
        "b7d0b439b66e4221b54cf5714a6bd2f9": {
          "model_module": "@jupyter-widgets/base",
          "model_name": "LayoutModel",
          "state": {
            "_view_name": "LayoutView",
            "grid_template_rows": null,
            "right": null,
            "justify_content": null,
            "_view_module": "@jupyter-widgets/base",
            "overflow": null,
            "_model_module_version": "1.2.0",
            "_view_count": null,
            "flex_flow": null,
            "width": null,
            "min_width": null,
            "border": null,
            "align_items": null,
            "bottom": null,
            "_model_module": "@jupyter-widgets/base",
            "top": null,
            "grid_column": null,
            "overflow_y": null,
            "overflow_x": null,
            "grid_auto_flow": null,
            "grid_area": null,
            "grid_template_columns": null,
            "flex": null,
            "_model_name": "LayoutModel",
            "justify_items": null,
            "grid_row": null,
            "max_height": null,
            "align_content": null,
            "visibility": null,
            "align_self": null,
            "height": null,
            "min_height": null,
            "padding": null,
            "grid_auto_rows": null,
            "grid_gap": null,
            "max_width": null,
            "order": null,
            "_view_module_version": "1.2.0",
            "grid_template_areas": null,
            "object_position": null,
            "object_fit": null,
            "grid_auto_columns": null,
            "margin": null,
            "display": null,
            "left": null
          }
        },
        "f06a1653ebea4d36a52bd03c26fa5a40": {
          "model_module": "@jupyter-widgets/controls",
          "model_name": "HBoxModel",
          "state": {
            "_view_name": "HBoxView",
            "_dom_classes": [],
            "_model_name": "HBoxModel",
            "_view_module": "@jupyter-widgets/controls",
            "_model_module_version": "1.5.0",
            "_view_count": null,
            "_view_module_version": "1.5.0",
            "box_style": "",
            "layout": "IPY_MODEL_0c71c36c8e5e4028b07150fbe9f47471",
            "_model_module": "@jupyter-widgets/controls",
            "children": [
              "IPY_MODEL_b1630dff28ed4cabbfb47d825269239d",
              "IPY_MODEL_3f622348a5a440419359f61db610eb18"
            ]
          }
        },
        "0c71c36c8e5e4028b07150fbe9f47471": {
          "model_module": "@jupyter-widgets/base",
          "model_name": "LayoutModel",
          "state": {
            "_view_name": "LayoutView",
            "grid_template_rows": null,
            "right": null,
            "justify_content": null,
            "_view_module": "@jupyter-widgets/base",
            "overflow": null,
            "_model_module_version": "1.2.0",
            "_view_count": null,
            "flex_flow": null,
            "width": null,
            "min_width": null,
            "border": null,
            "align_items": null,
            "bottom": null,
            "_model_module": "@jupyter-widgets/base",
            "top": null,
            "grid_column": null,
            "overflow_y": null,
            "overflow_x": null,
            "grid_auto_flow": null,
            "grid_area": null,
            "grid_template_columns": null,
            "flex": null,
            "_model_name": "LayoutModel",
            "justify_items": null,
            "grid_row": null,
            "max_height": null,
            "align_content": null,
            "visibility": null,
            "align_self": null,
            "height": null,
            "min_height": null,
            "padding": null,
            "grid_auto_rows": null,
            "grid_gap": null,
            "max_width": null,
            "order": null,
            "_view_module_version": "1.2.0",
            "grid_template_areas": null,
            "object_position": null,
            "object_fit": null,
            "grid_auto_columns": null,
            "margin": null,
            "display": null,
            "left": null
          }
        },
        "b1630dff28ed4cabbfb47d825269239d": {
          "model_module": "@jupyter-widgets/controls",
          "model_name": "FloatProgressModel",
          "state": {
            "_view_name": "ProgressView",
            "style": "IPY_MODEL_f57dba4336604d109fa5049052c3ab91",
            "_dom_classes": [],
            "description": "Downloading: 100%",
            "_model_name": "FloatProgressModel",
            "bar_style": "success",
            "max": 112,
            "_view_module": "@jupyter-widgets/controls",
            "_model_module_version": "1.5.0",
            "value": 112,
            "_view_count": null,
            "_view_module_version": "1.5.0",
            "orientation": "horizontal",
            "min": 0,
            "description_tooltip": null,
            "_model_module": "@jupyter-widgets/controls",
            "layout": "IPY_MODEL_9c504aa388a543e5b25c4272d79fbe74"
          }
        },
        "3f622348a5a440419359f61db610eb18": {
          "model_module": "@jupyter-widgets/controls",
          "model_name": "HTMLModel",
          "state": {
            "_view_name": "HTMLView",
            "style": "IPY_MODEL_98d3d579a740437e832d27cd5163ac5f",
            "_dom_classes": [],
            "description": "",
            "_model_name": "HTMLModel",
            "placeholder": "​",
            "_view_module": "@jupyter-widgets/controls",
            "_model_module_version": "1.5.0",
            "value": " 112/112 [00:00&lt;00:00, 639B/s]",
            "_view_count": null,
            "_view_module_version": "1.5.0",
            "description_tooltip": null,
            "_model_module": "@jupyter-widgets/controls",
            "layout": "IPY_MODEL_27541fee1df047a28e11bc3017a9f737"
          }
        },
        "f57dba4336604d109fa5049052c3ab91": {
          "model_module": "@jupyter-widgets/controls",
          "model_name": "ProgressStyleModel",
          "state": {
            "_view_name": "StyleView",
            "_model_name": "ProgressStyleModel",
            "description_width": "initial",
            "_view_module": "@jupyter-widgets/base",
            "_model_module_version": "1.5.0",
            "_view_count": null,
            "_view_module_version": "1.2.0",
            "bar_color": null,
            "_model_module": "@jupyter-widgets/controls"
          }
        },
        "9c504aa388a543e5b25c4272d79fbe74": {
          "model_module": "@jupyter-widgets/base",
          "model_name": "LayoutModel",
          "state": {
            "_view_name": "LayoutView",
            "grid_template_rows": null,
            "right": null,
            "justify_content": null,
            "_view_module": "@jupyter-widgets/base",
            "overflow": null,
            "_model_module_version": "1.2.0",
            "_view_count": null,
            "flex_flow": null,
            "width": null,
            "min_width": null,
            "border": null,
            "align_items": null,
            "bottom": null,
            "_model_module": "@jupyter-widgets/base",
            "top": null,
            "grid_column": null,
            "overflow_y": null,
            "overflow_x": null,
            "grid_auto_flow": null,
            "grid_area": null,
            "grid_template_columns": null,
            "flex": null,
            "_model_name": "LayoutModel",
            "justify_items": null,
            "grid_row": null,
            "max_height": null,
            "align_content": null,
            "visibility": null,
            "align_self": null,
            "height": null,
            "min_height": null,
            "padding": null,
            "grid_auto_rows": null,
            "grid_gap": null,
            "max_width": null,
            "order": null,
            "_view_module_version": "1.2.0",
            "grid_template_areas": null,
            "object_position": null,
            "object_fit": null,
            "grid_auto_columns": null,
            "margin": null,
            "display": null,
            "left": null
          }
        },
        "98d3d579a740437e832d27cd5163ac5f": {
          "model_module": "@jupyter-widgets/controls",
          "model_name": "DescriptionStyleModel",
          "state": {
            "_view_name": "StyleView",
            "_model_name": "DescriptionStyleModel",
            "description_width": "",
            "_view_module": "@jupyter-widgets/base",
            "_model_module_version": "1.5.0",
            "_view_count": null,
            "_view_module_version": "1.2.0",
            "_model_module": "@jupyter-widgets/controls"
          }
        },
        "27541fee1df047a28e11bc3017a9f737": {
          "model_module": "@jupyter-widgets/base",
          "model_name": "LayoutModel",
          "state": {
            "_view_name": "LayoutView",
            "grid_template_rows": null,
            "right": null,
            "justify_content": null,
            "_view_module": "@jupyter-widgets/base",
            "overflow": null,
            "_model_module_version": "1.2.0",
            "_view_count": null,
            "flex_flow": null,
            "width": null,
            "min_width": null,
            "border": null,
            "align_items": null,
            "bottom": null,
            "_model_module": "@jupyter-widgets/base",
            "top": null,
            "grid_column": null,
            "overflow_y": null,
            "overflow_x": null,
            "grid_auto_flow": null,
            "grid_area": null,
            "grid_template_columns": null,
            "flex": null,
            "_model_name": "LayoutModel",
            "justify_items": null,
            "grid_row": null,
            "max_height": null,
            "align_content": null,
            "visibility": null,
            "align_self": null,
            "height": null,
            "min_height": null,
            "padding": null,
            "grid_auto_rows": null,
            "grid_gap": null,
            "max_width": null,
            "order": null,
            "_view_module_version": "1.2.0",
            "grid_template_areas": null,
            "object_position": null,
            "object_fit": null,
            "grid_auto_columns": null,
            "margin": null,
            "display": null,
            "left": null
          }
        },
        "676c4b820bae4ed699b7a610d4c38d8b": {
          "model_module": "@jupyter-widgets/controls",
          "model_name": "HBoxModel",
          "state": {
            "_view_name": "HBoxView",
            "_dom_classes": [],
            "_model_name": "HBoxModel",
            "_view_module": "@jupyter-widgets/controls",
            "_model_module_version": "1.5.0",
            "_view_count": null,
            "_view_module_version": "1.5.0",
            "box_style": "",
            "layout": "IPY_MODEL_bbb4c160672442e7b4ba92f186271555",
            "_model_module": "@jupyter-widgets/controls",
            "children": [
              "IPY_MODEL_53aa9ea8bb4240e79ebd0e9f514dd255",
              "IPY_MODEL_2dc2bbdd65de44d4afe87e471baa2a90"
            ]
          }
        },
        "bbb4c160672442e7b4ba92f186271555": {
          "model_module": "@jupyter-widgets/base",
          "model_name": "LayoutModel",
          "state": {
            "_view_name": "LayoutView",
            "grid_template_rows": null,
            "right": null,
            "justify_content": null,
            "_view_module": "@jupyter-widgets/base",
            "overflow": null,
            "_model_module_version": "1.2.0",
            "_view_count": null,
            "flex_flow": null,
            "width": null,
            "min_width": null,
            "border": null,
            "align_items": null,
            "bottom": null,
            "_model_module": "@jupyter-widgets/base",
            "top": null,
            "grid_column": null,
            "overflow_y": null,
            "overflow_x": null,
            "grid_auto_flow": null,
            "grid_area": null,
            "grid_template_columns": null,
            "flex": null,
            "_model_name": "LayoutModel",
            "justify_items": null,
            "grid_row": null,
            "max_height": null,
            "align_content": null,
            "visibility": null,
            "align_self": null,
            "height": null,
            "min_height": null,
            "padding": null,
            "grid_auto_rows": null,
            "grid_gap": null,
            "max_width": null,
            "order": null,
            "_view_module_version": "1.2.0",
            "grid_template_areas": null,
            "object_position": null,
            "object_fit": null,
            "grid_auto_columns": null,
            "margin": null,
            "display": null,
            "left": null
          }
        },
        "53aa9ea8bb4240e79ebd0e9f514dd255": {
          "model_module": "@jupyter-widgets/controls",
          "model_name": "FloatProgressModel",
          "state": {
            "_view_name": "ProgressView",
            "style": "IPY_MODEL_dc949f6f9ee6407a83ee2437d556f6e8",
            "_dom_classes": [],
            "description": "Downloading: 100%",
            "_model_name": "FloatProgressModel",
            "bar_style": "success",
            "max": 2,
            "_view_module": "@jupyter-widgets/controls",
            "_model_module_version": "1.5.0",
            "value": 2,
            "_view_count": null,
            "_view_module_version": "1.5.0",
            "orientation": "horizontal",
            "min": 0,
            "description_tooltip": null,
            "_model_module": "@jupyter-widgets/controls",
            "layout": "IPY_MODEL_553b1a17ffca4b20bfe56f150bacdb1c"
          }
        },
        "2dc2bbdd65de44d4afe87e471baa2a90": {
          "model_module": "@jupyter-widgets/controls",
          "model_name": "HTMLModel",
          "state": {
            "_view_name": "HTMLView",
            "style": "IPY_MODEL_301eb46b113c4503b5a82b2084bfad42",
            "_dom_classes": [],
            "description": "",
            "_model_name": "HTMLModel",
            "placeholder": "​",
            "_view_module": "@jupyter-widgets/controls",
            "_model_module_version": "1.5.0",
            "value": " 2.00/2.00 [00:00&lt;00:00, 22.8B/s]",
            "_view_count": null,
            "_view_module_version": "1.5.0",
            "description_tooltip": null,
            "_model_module": "@jupyter-widgets/controls",
            "layout": "IPY_MODEL_78f10203976f4dee91c1f69188ca7f03"
          }
        },
        "dc949f6f9ee6407a83ee2437d556f6e8": {
          "model_module": "@jupyter-widgets/controls",
          "model_name": "ProgressStyleModel",
          "state": {
            "_view_name": "StyleView",
            "_model_name": "ProgressStyleModel",
            "description_width": "initial",
            "_view_module": "@jupyter-widgets/base",
            "_model_module_version": "1.5.0",
            "_view_count": null,
            "_view_module_version": "1.2.0",
            "bar_color": null,
            "_model_module": "@jupyter-widgets/controls"
          }
        },
        "553b1a17ffca4b20bfe56f150bacdb1c": {
          "model_module": "@jupyter-widgets/base",
          "model_name": "LayoutModel",
          "state": {
            "_view_name": "LayoutView",
            "grid_template_rows": null,
            "right": null,
            "justify_content": null,
            "_view_module": "@jupyter-widgets/base",
            "overflow": null,
            "_model_module_version": "1.2.0",
            "_view_count": null,
            "flex_flow": null,
            "width": null,
            "min_width": null,
            "border": null,
            "align_items": null,
            "bottom": null,
            "_model_module": "@jupyter-widgets/base",
            "top": null,
            "grid_column": null,
            "overflow_y": null,
            "overflow_x": null,
            "grid_auto_flow": null,
            "grid_area": null,
            "grid_template_columns": null,
            "flex": null,
            "_model_name": "LayoutModel",
            "justify_items": null,
            "grid_row": null,
            "max_height": null,
            "align_content": null,
            "visibility": null,
            "align_self": null,
            "height": null,
            "min_height": null,
            "padding": null,
            "grid_auto_rows": null,
            "grid_gap": null,
            "max_width": null,
            "order": null,
            "_view_module_version": "1.2.0",
            "grid_template_areas": null,
            "object_position": null,
            "object_fit": null,
            "grid_auto_columns": null,
            "margin": null,
            "display": null,
            "left": null
          }
        },
        "301eb46b113c4503b5a82b2084bfad42": {
          "model_module": "@jupyter-widgets/controls",
          "model_name": "DescriptionStyleModel",
          "state": {
            "_view_name": "StyleView",
            "_model_name": "DescriptionStyleModel",
            "description_width": "",
            "_view_module": "@jupyter-widgets/base",
            "_model_module_version": "1.5.0",
            "_view_count": null,
            "_view_module_version": "1.2.0",
            "_model_module": "@jupyter-widgets/controls"
          }
        },
        "78f10203976f4dee91c1f69188ca7f03": {
          "model_module": "@jupyter-widgets/base",
          "model_name": "LayoutModel",
          "state": {
            "_view_name": "LayoutView",
            "grid_template_rows": null,
            "right": null,
            "justify_content": null,
            "_view_module": "@jupyter-widgets/base",
            "overflow": null,
            "_model_module_version": "1.2.0",
            "_view_count": null,
            "flex_flow": null,
            "width": null,
            "min_width": null,
            "border": null,
            "align_items": null,
            "bottom": null,
            "_model_module": "@jupyter-widgets/base",
            "top": null,
            "grid_column": null,
            "overflow_y": null,
            "overflow_x": null,
            "grid_auto_flow": null,
            "grid_area": null,
            "grid_template_columns": null,
            "flex": null,
            "_model_name": "LayoutModel",
            "justify_items": null,
            "grid_row": null,
            "max_height": null,
            "align_content": null,
            "visibility": null,
            "align_self": null,
            "height": null,
            "min_height": null,
            "padding": null,
            "grid_auto_rows": null,
            "grid_gap": null,
            "max_width": null,
            "order": null,
            "_view_module_version": "1.2.0",
            "grid_template_areas": null,
            "object_position": null,
            "object_fit": null,
            "grid_auto_columns": null,
            "margin": null,
            "display": null,
            "left": null
          }
        },
        "12bc22dd8f7f42b5bb27c3201487d9e3": {
          "model_module": "@jupyter-widgets/controls",
          "model_name": "HBoxModel",
          "state": {
            "_view_name": "HBoxView",
            "_dom_classes": [],
            "_model_name": "HBoxModel",
            "_view_module": "@jupyter-widgets/controls",
            "_model_module_version": "1.5.0",
            "_view_count": null,
            "_view_module_version": "1.5.0",
            "box_style": "",
            "layout": "IPY_MODEL_00e9f92da0034bc9a1983aae29a61052",
            "_model_module": "@jupyter-widgets/controls",
            "children": [
              "IPY_MODEL_751bde868d3c4273a423db569264985f",
              "IPY_MODEL_1063a32780734b25a0645e7fd9eb027c"
            ]
          }
        },
        "00e9f92da0034bc9a1983aae29a61052": {
          "model_module": "@jupyter-widgets/base",
          "model_name": "LayoutModel",
          "state": {
            "_view_name": "LayoutView",
            "grid_template_rows": null,
            "right": null,
            "justify_content": null,
            "_view_module": "@jupyter-widgets/base",
            "overflow": null,
            "_model_module_version": "1.2.0",
            "_view_count": null,
            "flex_flow": null,
            "width": null,
            "min_width": null,
            "border": null,
            "align_items": null,
            "bottom": null,
            "_model_module": "@jupyter-widgets/base",
            "top": null,
            "grid_column": null,
            "overflow_y": null,
            "overflow_x": null,
            "grid_auto_flow": null,
            "grid_area": null,
            "grid_template_columns": null,
            "flex": null,
            "_model_name": "LayoutModel",
            "justify_items": null,
            "grid_row": null,
            "max_height": null,
            "align_content": null,
            "visibility": null,
            "align_self": null,
            "height": null,
            "min_height": null,
            "padding": null,
            "grid_auto_rows": null,
            "grid_gap": null,
            "max_width": null,
            "order": null,
            "_view_module_version": "1.2.0",
            "grid_template_areas": null,
            "object_position": null,
            "object_fit": null,
            "grid_auto_columns": null,
            "margin": null,
            "display": null,
            "left": null
          }
        },
        "751bde868d3c4273a423db569264985f": {
          "model_module": "@jupyter-widgets/controls",
          "model_name": "FloatProgressModel",
          "state": {
            "_view_name": "ProgressView",
            "style": "IPY_MODEL_86336e3a979b4b90aaefeec2cf67431d",
            "_dom_classes": [],
            "description": "Downloading: 100%",
            "_model_name": "FloatProgressModel",
            "bar_style": "success",
            "max": 1534,
            "_view_module": "@jupyter-widgets/controls",
            "_model_module_version": "1.5.0",
            "value": 1534,
            "_view_count": null,
            "_view_module_version": "1.5.0",
            "orientation": "horizontal",
            "min": 0,
            "description_tooltip": null,
            "_model_module": "@jupyter-widgets/controls",
            "layout": "IPY_MODEL_d2c7c7575f2b49ed81ee7379daae86d2"
          }
        },
        "1063a32780734b25a0645e7fd9eb027c": {
          "model_module": "@jupyter-widgets/controls",
          "model_name": "HTMLModel",
          "state": {
            "_view_name": "HTMLView",
            "style": "IPY_MODEL_2b47e428dfe447b6af25dc86be7174b4",
            "_dom_classes": [],
            "description": "",
            "_model_name": "HTMLModel",
            "placeholder": "​",
            "_view_module": "@jupyter-widgets/controls",
            "_model_module_version": "1.5.0",
            "value": " 1.53k/1.53k [00:00&lt;00:00, 4.87kB/s]",
            "_view_count": null,
            "_view_module_version": "1.5.0",
            "description_tooltip": null,
            "_model_module": "@jupyter-widgets/controls",
            "layout": "IPY_MODEL_8ae215ee8842444f9ee22f143a03423d"
          }
        },
        "86336e3a979b4b90aaefeec2cf67431d": {
          "model_module": "@jupyter-widgets/controls",
          "model_name": "ProgressStyleModel",
          "state": {
            "_view_name": "StyleView",
            "_model_name": "ProgressStyleModel",
            "description_width": "initial",
            "_view_module": "@jupyter-widgets/base",
            "_model_module_version": "1.5.0",
            "_view_count": null,
            "_view_module_version": "1.2.0",
            "bar_color": null,
            "_model_module": "@jupyter-widgets/controls"
          }
        },
        "d2c7c7575f2b49ed81ee7379daae86d2": {
          "model_module": "@jupyter-widgets/base",
          "model_name": "LayoutModel",
          "state": {
            "_view_name": "LayoutView",
            "grid_template_rows": null,
            "right": null,
            "justify_content": null,
            "_view_module": "@jupyter-widgets/base",
            "overflow": null,
            "_model_module_version": "1.2.0",
            "_view_count": null,
            "flex_flow": null,
            "width": null,
            "min_width": null,
            "border": null,
            "align_items": null,
            "bottom": null,
            "_model_module": "@jupyter-widgets/base",
            "top": null,
            "grid_column": null,
            "overflow_y": null,
            "overflow_x": null,
            "grid_auto_flow": null,
            "grid_area": null,
            "grid_template_columns": null,
            "flex": null,
            "_model_name": "LayoutModel",
            "justify_items": null,
            "grid_row": null,
            "max_height": null,
            "align_content": null,
            "visibility": null,
            "align_self": null,
            "height": null,
            "min_height": null,
            "padding": null,
            "grid_auto_rows": null,
            "grid_gap": null,
            "max_width": null,
            "order": null,
            "_view_module_version": "1.2.0",
            "grid_template_areas": null,
            "object_position": null,
            "object_fit": null,
            "grid_auto_columns": null,
            "margin": null,
            "display": null,
            "left": null
          }
        },
        "2b47e428dfe447b6af25dc86be7174b4": {
          "model_module": "@jupyter-widgets/controls",
          "model_name": "DescriptionStyleModel",
          "state": {
            "_view_name": "StyleView",
            "_model_name": "DescriptionStyleModel",
            "description_width": "",
            "_view_module": "@jupyter-widgets/base",
            "_model_module_version": "1.5.0",
            "_view_count": null,
            "_view_module_version": "1.2.0",
            "_model_module": "@jupyter-widgets/controls"
          }
        },
        "8ae215ee8842444f9ee22f143a03423d": {
          "model_module": "@jupyter-widgets/base",
          "model_name": "LayoutModel",
          "state": {
            "_view_name": "LayoutView",
            "grid_template_rows": null,
            "right": null,
            "justify_content": null,
            "_view_module": "@jupyter-widgets/base",
            "overflow": null,
            "_model_module_version": "1.2.0",
            "_view_count": null,
            "flex_flow": null,
            "width": null,
            "min_width": null,
            "border": null,
            "align_items": null,
            "bottom": null,
            "_model_module": "@jupyter-widgets/base",
            "top": null,
            "grid_column": null,
            "overflow_y": null,
            "overflow_x": null,
            "grid_auto_flow": null,
            "grid_area": null,
            "grid_template_columns": null,
            "flex": null,
            "_model_name": "LayoutModel",
            "justify_items": null,
            "grid_row": null,
            "max_height": null,
            "align_content": null,
            "visibility": null,
            "align_self": null,
            "height": null,
            "min_height": null,
            "padding": null,
            "grid_auto_rows": null,
            "grid_gap": null,
            "max_width": null,
            "order": null,
            "_view_module_version": "1.2.0",
            "grid_template_areas": null,
            "object_position": null,
            "object_fit": null,
            "grid_auto_columns": null,
            "margin": null,
            "display": null,
            "left": null
          }
        },
        "72beb41fbfbc4d1c9863594467ce16d5": {
          "model_module": "@jupyter-widgets/controls",
          "model_name": "HBoxModel",
          "state": {
            "_view_name": "HBoxView",
            "_dom_classes": [],
            "_model_name": "HBoxModel",
            "_view_module": "@jupyter-widgets/controls",
            "_model_module_version": "1.5.0",
            "_view_count": null,
            "_view_module_version": "1.5.0",
            "box_style": "",
            "layout": "IPY_MODEL_48ddbe2d44674514a28503abaac08ebd",
            "_model_module": "@jupyter-widgets/controls",
            "children": [
              "IPY_MODEL_06bc1e3979b44cfe952fd5b47c17a5ee",
              "IPY_MODEL_955eb196c0db419da46f504eb0d1841f"
            ]
          }
        },
        "48ddbe2d44674514a28503abaac08ebd": {
          "model_module": "@jupyter-widgets/base",
          "model_name": "LayoutModel",
          "state": {
            "_view_name": "LayoutView",
            "grid_template_rows": null,
            "right": null,
            "justify_content": null,
            "_view_module": "@jupyter-widgets/base",
            "overflow": null,
            "_model_module_version": "1.2.0",
            "_view_count": null,
            "flex_flow": null,
            "width": null,
            "min_width": null,
            "border": null,
            "align_items": null,
            "bottom": null,
            "_model_module": "@jupyter-widgets/base",
            "top": null,
            "grid_column": null,
            "overflow_y": null,
            "overflow_x": null,
            "grid_auto_flow": null,
            "grid_area": null,
            "grid_template_columns": null,
            "flex": null,
            "_model_name": "LayoutModel",
            "justify_items": null,
            "grid_row": null,
            "max_height": null,
            "align_content": null,
            "visibility": null,
            "align_self": null,
            "height": null,
            "min_height": null,
            "padding": null,
            "grid_auto_rows": null,
            "grid_gap": null,
            "max_width": null,
            "order": null,
            "_view_module_version": "1.2.0",
            "grid_template_areas": null,
            "object_position": null,
            "object_fit": null,
            "grid_auto_columns": null,
            "margin": null,
            "display": null,
            "left": null
          }
        },
        "06bc1e3979b44cfe952fd5b47c17a5ee": {
          "model_module": "@jupyter-widgets/controls",
          "model_name": "FloatProgressModel",
          "state": {
            "_view_name": "ProgressView",
            "style": "IPY_MODEL_a2a803e7059945ab84089f30ab5b254d",
            "_dom_classes": [],
            "description": "Downloading: 100%",
            "_model_name": "FloatProgressModel",
            "bar_style": "success",
            "max": 497810400,
            "_view_module": "@jupyter-widgets/controls",
            "_model_module_version": "1.5.0",
            "value": 497810400,
            "_view_count": null,
            "_view_module_version": "1.5.0",
            "orientation": "horizontal",
            "min": 0,
            "description_tooltip": null,
            "_model_module": "@jupyter-widgets/controls",
            "layout": "IPY_MODEL_e824e6d9ab6b4791b52a725d0bd3a4ef"
          }
        },
        "955eb196c0db419da46f504eb0d1841f": {
          "model_module": "@jupyter-widgets/controls",
          "model_name": "HTMLModel",
          "state": {
            "_view_name": "HTMLView",
            "style": "IPY_MODEL_c9e12577a61343f68054e878aca0cefd",
            "_dom_classes": [],
            "description": "",
            "_model_name": "HTMLModel",
            "placeholder": "​",
            "_view_module": "@jupyter-widgets/controls",
            "_model_module_version": "1.5.0",
            "value": " 498M/498M [01:09&lt;00:00, 7.19MB/s]",
            "_view_count": null,
            "_view_module_version": "1.5.0",
            "description_tooltip": null,
            "_model_module": "@jupyter-widgets/controls",
            "layout": "IPY_MODEL_32c51da563e84858a3df01e6d8090b44"
          }
        },
        "a2a803e7059945ab84089f30ab5b254d": {
          "model_module": "@jupyter-widgets/controls",
          "model_name": "ProgressStyleModel",
          "state": {
            "_view_name": "StyleView",
            "_model_name": "ProgressStyleModel",
            "description_width": "initial",
            "_view_module": "@jupyter-widgets/base",
            "_model_module_version": "1.5.0",
            "_view_count": null,
            "_view_module_version": "1.2.0",
            "bar_color": null,
            "_model_module": "@jupyter-widgets/controls"
          }
        },
        "e824e6d9ab6b4791b52a725d0bd3a4ef": {
          "model_module": "@jupyter-widgets/base",
          "model_name": "LayoutModel",
          "state": {
            "_view_name": "LayoutView",
            "grid_template_rows": null,
            "right": null,
            "justify_content": null,
            "_view_module": "@jupyter-widgets/base",
            "overflow": null,
            "_model_module_version": "1.2.0",
            "_view_count": null,
            "flex_flow": null,
            "width": null,
            "min_width": null,
            "border": null,
            "align_items": null,
            "bottom": null,
            "_model_module": "@jupyter-widgets/base",
            "top": null,
            "grid_column": null,
            "overflow_y": null,
            "overflow_x": null,
            "grid_auto_flow": null,
            "grid_area": null,
            "grid_template_columns": null,
            "flex": null,
            "_model_name": "LayoutModel",
            "justify_items": null,
            "grid_row": null,
            "max_height": null,
            "align_content": null,
            "visibility": null,
            "align_self": null,
            "height": null,
            "min_height": null,
            "padding": null,
            "grid_auto_rows": null,
            "grid_gap": null,
            "max_width": null,
            "order": null,
            "_view_module_version": "1.2.0",
            "grid_template_areas": null,
            "object_position": null,
            "object_fit": null,
            "grid_auto_columns": null,
            "margin": null,
            "display": null,
            "left": null
          }
        },
        "c9e12577a61343f68054e878aca0cefd": {
          "model_module": "@jupyter-widgets/controls",
          "model_name": "DescriptionStyleModel",
          "state": {
            "_view_name": "StyleView",
            "_model_name": "DescriptionStyleModel",
            "description_width": "",
            "_view_module": "@jupyter-widgets/base",
            "_model_module_version": "1.5.0",
            "_view_count": null,
            "_view_module_version": "1.2.0",
            "_model_module": "@jupyter-widgets/controls"
          }
        },
        "32c51da563e84858a3df01e6d8090b44": {
          "model_module": "@jupyter-widgets/base",
          "model_name": "LayoutModel",
          "state": {
            "_view_name": "LayoutView",
            "grid_template_rows": null,
            "right": null,
            "justify_content": null,
            "_view_module": "@jupyter-widgets/base",
            "overflow": null,
            "_model_module_version": "1.2.0",
            "_view_count": null,
            "flex_flow": null,
            "width": null,
            "min_width": null,
            "border": null,
            "align_items": null,
            "bottom": null,
            "_model_module": "@jupyter-widgets/base",
            "top": null,
            "grid_column": null,
            "overflow_y": null,
            "overflow_x": null,
            "grid_auto_flow": null,
            "grid_area": null,
            "grid_template_columns": null,
            "flex": null,
            "_model_name": "LayoutModel",
            "justify_items": null,
            "grid_row": null,
            "max_height": null,
            "align_content": null,
            "visibility": null,
            "align_self": null,
            "height": null,
            "min_height": null,
            "padding": null,
            "grid_auto_rows": null,
            "grid_gap": null,
            "max_width": null,
            "order": null,
            "_view_module_version": "1.2.0",
            "grid_template_areas": null,
            "object_position": null,
            "object_fit": null,
            "grid_auto_columns": null,
            "margin": null,
            "display": null,
            "left": null
          }
        }
      }
    },
    "accelerator": "GPU"
  },
  "cells": [
    {
      "cell_type": "markdown",
      "metadata": {
        "id": "view-in-github",
        "colab_type": "text"
      },
      "source": [
        "<a href=\"https://colab.research.google.com/github/garynico/IndoBERT-Hoax/blob/main/IndoBERT_Hoax_News_Detection.ipynb\" target=\"_parent\"><img src=\"https://colab.research.google.com/assets/colab-badge.svg\" alt=\"Open In Colab\"/></a>"
      ]
    },
    {
      "cell_type": "markdown",
      "metadata": {
        "id": "MLrHTVMSTxbt"
      },
      "source": [
        "# IndoBERT for Bahasa Indonesia Hoax News Detection"
      ]
    },
    {
      "cell_type": "markdown",
      "metadata": {
        "id": "LATDuyAVYEsw"
      },
      "source": [
        "### Import library"
      ]
    },
    {
      "cell_type": "code",
      "metadata": {
        "colab": {
          "base_uri": "https://localhost:8080/"
        },
        "id": "fBr2V8S1LAt1",
        "outputId": "32afa10f-b6b0-410f-cc21-fd07865ac9b5"
      },
      "source": [
        "import pandas as pd \r\n",
        "import numpy as np \r\n",
        "import torch\r\n",
        "\r\n",
        "!pip install transformers\r\n",
        "from transformers import BertForSequenceClassification, BertConfig, BertTokenizer\r\n",
        "from keras.preprocessing.sequence import pad_sequences\r\n",
        "from sklearn.metrics import classification_report\r\n",
        "import matplotlib.pyplot as plt\r\n",
        "\r\n",
        "# Preliminaries\r\n",
        "from torchtext.data import Field, TabularDataset, BucketIterator, Iterator\r\n",
        "\r\n",
        "# Models\r\n",
        "import torch.nn as nn\r\n",
        "\r\n",
        "# Training\r\n",
        "import torch.optim as optim\r\n",
        "\r\n",
        "# Evaluation\r\n",
        "from sklearn.metrics import accuracy_score, classification_report, confusion_matrix\r\n",
        "import seaborn as sns"
      ],
      "execution_count": 1,
      "outputs": [
        {
          "output_type": "stream",
          "text": [
            "Collecting transformers\n",
            "\u001b[?25l  Downloading https://files.pythonhosted.org/packages/50/0c/7d5950fcd80b029be0a8891727ba21e0cd27692c407c51261c3c921f6da3/transformers-4.1.1-py3-none-any.whl (1.5MB)\n",
            "\r\u001b[K     |▏                               | 10kB 18.8MB/s eta 0:00:01\r\u001b[K     |▍                               | 20kB 17.2MB/s eta 0:00:01\r\u001b[K     |▋                               | 30kB 14.9MB/s eta 0:00:01\r\u001b[K     |▉                               | 40kB 14.3MB/s eta 0:00:01\r\u001b[K     |█                               | 51kB 11.2MB/s eta 0:00:01\r\u001b[K     |█▎                              | 61kB 11.4MB/s eta 0:00:01\r\u001b[K     |█▌                              | 71kB 11.7MB/s eta 0:00:01\r\u001b[K     |█▊                              | 81kB 11.8MB/s eta 0:00:01\r\u001b[K     |██                              | 92kB 12.8MB/s eta 0:00:01\r\u001b[K     |██▏                             | 102kB 12.6MB/s eta 0:00:01\r\u001b[K     |██▍                             | 112kB 12.6MB/s eta 0:00:01\r\u001b[K     |██▋                             | 122kB 12.6MB/s eta 0:00:01\r\u001b[K     |██▉                             | 133kB 12.6MB/s eta 0:00:01\r\u001b[K     |███                             | 143kB 12.6MB/s eta 0:00:01\r\u001b[K     |███▎                            | 153kB 12.6MB/s eta 0:00:01\r\u001b[K     |███▌                            | 163kB 12.6MB/s eta 0:00:01\r\u001b[K     |███▊                            | 174kB 12.6MB/s eta 0:00:01\r\u001b[K     |████                            | 184kB 12.6MB/s eta 0:00:01\r\u001b[K     |████▏                           | 194kB 12.6MB/s eta 0:00:01\r\u001b[K     |████▎                           | 204kB 12.6MB/s eta 0:00:01\r\u001b[K     |████▌                           | 215kB 12.6MB/s eta 0:00:01\r\u001b[K     |████▊                           | 225kB 12.6MB/s eta 0:00:01\r\u001b[K     |█████                           | 235kB 12.6MB/s eta 0:00:01\r\u001b[K     |█████▏                          | 245kB 12.6MB/s eta 0:00:01\r\u001b[K     |█████▍                          | 256kB 12.6MB/s eta 0:00:01\r\u001b[K     |█████▋                          | 266kB 12.6MB/s eta 0:00:01\r\u001b[K     |█████▉                          | 276kB 12.6MB/s eta 0:00:01\r\u001b[K     |██████                          | 286kB 12.6MB/s eta 0:00:01\r\u001b[K     |██████▎                         | 296kB 12.6MB/s eta 0:00:01\r\u001b[K     |██████▌                         | 307kB 12.6MB/s eta 0:00:01\r\u001b[K     |██████▊                         | 317kB 12.6MB/s eta 0:00:01\r\u001b[K     |███████                         | 327kB 12.6MB/s eta 0:00:01\r\u001b[K     |███████▏                        | 337kB 12.6MB/s eta 0:00:01\r\u001b[K     |███████▍                        | 348kB 12.6MB/s eta 0:00:01\r\u001b[K     |███████▋                        | 358kB 12.6MB/s eta 0:00:01\r\u001b[K     |███████▉                        | 368kB 12.6MB/s eta 0:00:01\r\u001b[K     |████████                        | 378kB 12.6MB/s eta 0:00:01\r\u001b[K     |████████▎                       | 389kB 12.6MB/s eta 0:00:01\r\u001b[K     |████████▌                       | 399kB 12.6MB/s eta 0:00:01\r\u001b[K     |████████▋                       | 409kB 12.6MB/s eta 0:00:01\r\u001b[K     |████████▉                       | 419kB 12.6MB/s eta 0:00:01\r\u001b[K     |█████████                       | 430kB 12.6MB/s eta 0:00:01\r\u001b[K     |█████████▎                      | 440kB 12.6MB/s eta 0:00:01\r\u001b[K     |█████████▌                      | 450kB 12.6MB/s eta 0:00:01\r\u001b[K     |█████████▊                      | 460kB 12.6MB/s eta 0:00:01\r\u001b[K     |██████████                      | 471kB 12.6MB/s eta 0:00:01\r\u001b[K     |██████████▏                     | 481kB 12.6MB/s eta 0:00:01\r\u001b[K     |██████████▍                     | 491kB 12.6MB/s eta 0:00:01\r\u001b[K     |██████████▋                     | 501kB 12.6MB/s eta 0:00:01\r\u001b[K     |██████████▉                     | 512kB 12.6MB/s eta 0:00:01\r\u001b[K     |███████████                     | 522kB 12.6MB/s eta 0:00:01\r\u001b[K     |███████████▎                    | 532kB 12.6MB/s eta 0:00:01\r\u001b[K     |███████████▌                    | 542kB 12.6MB/s eta 0:00:01\r\u001b[K     |███████████▊                    | 552kB 12.6MB/s eta 0:00:01\r\u001b[K     |████████████                    | 563kB 12.6MB/s eta 0:00:01\r\u001b[K     |████████████▏                   | 573kB 12.6MB/s eta 0:00:01\r\u001b[K     |████████████▍                   | 583kB 12.6MB/s eta 0:00:01\r\u001b[K     |████████████▋                   | 593kB 12.6MB/s eta 0:00:01\r\u001b[K     |████████████▉                   | 604kB 12.6MB/s eta 0:00:01\r\u001b[K     |█████████████                   | 614kB 12.6MB/s eta 0:00:01\r\u001b[K     |█████████████▏                  | 624kB 12.6MB/s eta 0:00:01\r\u001b[K     |█████████████▍                  | 634kB 12.6MB/s eta 0:00:01\r\u001b[K     |█████████████▋                  | 645kB 12.6MB/s eta 0:00:01\r\u001b[K     |█████████████▉                  | 655kB 12.6MB/s eta 0:00:01\r\u001b[K     |██████████████                  | 665kB 12.6MB/s eta 0:00:01\r\u001b[K     |██████████████▎                 | 675kB 12.6MB/s eta 0:00:01\r\u001b[K     |██████████████▌                 | 686kB 12.6MB/s eta 0:00:01\r\u001b[K     |██████████████▊                 | 696kB 12.6MB/s eta 0:00:01\r\u001b[K     |███████████████                 | 706kB 12.6MB/s eta 0:00:01\r\u001b[K     |███████████████▏                | 716kB 12.6MB/s eta 0:00:01\r\u001b[K     |███████████████▍                | 727kB 12.6MB/s eta 0:00:01\r\u001b[K     |███████████████▋                | 737kB 12.6MB/s eta 0:00:01\r\u001b[K     |███████████████▉                | 747kB 12.6MB/s eta 0:00:01\r\u001b[K     |████████████████                | 757kB 12.6MB/s eta 0:00:01\r\u001b[K     |████████████████▎               | 768kB 12.6MB/s eta 0:00:01\r\u001b[K     |████████████████▌               | 778kB 12.6MB/s eta 0:00:01\r\u001b[K     |████████████████▊               | 788kB 12.6MB/s eta 0:00:01\r\u001b[K     |█████████████████               | 798kB 12.6MB/s eta 0:00:01\r\u001b[K     |█████████████████               | 808kB 12.6MB/s eta 0:00:01\r\u001b[K     |█████████████████▎              | 819kB 12.6MB/s eta 0:00:01\r\u001b[K     |█████████████████▌              | 829kB 12.6MB/s eta 0:00:01\r\u001b[K     |█████████████████▊              | 839kB 12.6MB/s eta 0:00:01\r\u001b[K     |██████████████████              | 849kB 12.6MB/s eta 0:00:01\r\u001b[K     |██████████████████▏             | 860kB 12.6MB/s eta 0:00:01\r\u001b[K     |██████████████████▍             | 870kB 12.6MB/s eta 0:00:01\r\u001b[K     |██████████████████▋             | 880kB 12.6MB/s eta 0:00:01\r\u001b[K     |██████████████████▉             | 890kB 12.6MB/s eta 0:00:01\r\u001b[K     |███████████████████             | 901kB 12.6MB/s eta 0:00:01\r\u001b[K     |███████████████████▎            | 911kB 12.6MB/s eta 0:00:01\r\u001b[K     |███████████████████▌            | 921kB 12.6MB/s eta 0:00:01\r\u001b[K     |███████████████████▊            | 931kB 12.6MB/s eta 0:00:01\r\u001b[K     |████████████████████            | 942kB 12.6MB/s eta 0:00:01\r\u001b[K     |████████████████████▏           | 952kB 12.6MB/s eta 0:00:01\r\u001b[K     |████████████████████▍           | 962kB 12.6MB/s eta 0:00:01\r\u001b[K     |████████████████████▋           | 972kB 12.6MB/s eta 0:00:01\r\u001b[K     |████████████████████▉           | 983kB 12.6MB/s eta 0:00:01\r\u001b[K     |█████████████████████           | 993kB 12.6MB/s eta 0:00:01\r\u001b[K     |█████████████████████▎          | 1.0MB 12.6MB/s eta 0:00:01\r\u001b[K     |█████████████████████▍          | 1.0MB 12.6MB/s eta 0:00:01\r\u001b[K     |█████████████████████▋          | 1.0MB 12.6MB/s eta 0:00:01\r\u001b[K     |█████████████████████▉          | 1.0MB 12.6MB/s eta 0:00:01\r\u001b[K     |██████████████████████          | 1.0MB 12.6MB/s eta 0:00:01\r\u001b[K     |██████████████████████▎         | 1.1MB 12.6MB/s eta 0:00:01\r\u001b[K     |██████████████████████▌         | 1.1MB 12.6MB/s eta 0:00:01\r\u001b[K     |██████████████████████▊         | 1.1MB 12.6MB/s eta 0:00:01\r\u001b[K     |███████████████████████         | 1.1MB 12.6MB/s eta 0:00:01\r\u001b[K     |███████████████████████▏        | 1.1MB 12.6MB/s eta 0:00:01\r\u001b[K     |███████████████████████▍        | 1.1MB 12.6MB/s eta 0:00:01\r\u001b[K     |███████████████████████▋        | 1.1MB 12.6MB/s eta 0:00:01\r\u001b[K     |███████████████████████▉        | 1.1MB 12.6MB/s eta 0:00:01\r\u001b[K     |████████████████████████        | 1.1MB 12.6MB/s eta 0:00:01\r\u001b[K     |████████████████████████▎       | 1.1MB 12.6MB/s eta 0:00:01\r\u001b[K     |████████████████████████▌       | 1.2MB 12.6MB/s eta 0:00:01\r\u001b[K     |████████████████████████▊       | 1.2MB 12.6MB/s eta 0:00:01\r\u001b[K     |█████████████████████████       | 1.2MB 12.6MB/s eta 0:00:01\r\u001b[K     |█████████████████████████▏      | 1.2MB 12.6MB/s eta 0:00:01\r\u001b[K     |█████████████████████████▍      | 1.2MB 12.6MB/s eta 0:00:01\r\u001b[K     |█████████████████████████▋      | 1.2MB 12.6MB/s eta 0:00:01\r\u001b[K     |█████████████████████████▊      | 1.2MB 12.6MB/s eta 0:00:01\r\u001b[K     |██████████████████████████      | 1.2MB 12.6MB/s eta 0:00:01\r\u001b[K     |██████████████████████████▏     | 1.2MB 12.6MB/s eta 0:00:01\r\u001b[K     |██████████████████████████▍     | 1.2MB 12.6MB/s eta 0:00:01\r\u001b[K     |██████████████████████████▋     | 1.3MB 12.6MB/s eta 0:00:01\r\u001b[K     |██████████████████████████▉     | 1.3MB 12.6MB/s eta 0:00:01\r\u001b[K     |███████████████████████████     | 1.3MB 12.6MB/s eta 0:00:01\r\u001b[K     |███████████████████████████▎    | 1.3MB 12.6MB/s eta 0:00:01\r\u001b[K     |███████████████████████████▌    | 1.3MB 12.6MB/s eta 0:00:01\r\u001b[K     |███████████████████████████▊    | 1.3MB 12.6MB/s eta 0:00:01\r\u001b[K     |████████████████████████████    | 1.3MB 12.6MB/s eta 0:00:01\r\u001b[K     |████████████████████████████▏   | 1.3MB 12.6MB/s eta 0:00:01\r\u001b[K     |████████████████████████████▍   | 1.3MB 12.6MB/s eta 0:00:01\r\u001b[K     |████████████████████████████▋   | 1.4MB 12.6MB/s eta 0:00:01\r\u001b[K     |████████████████████████████▉   | 1.4MB 12.6MB/s eta 0:00:01\r\u001b[K     |█████████████████████████████   | 1.4MB 12.6MB/s eta 0:00:01\r\u001b[K     |█████████████████████████████▎  | 1.4MB 12.6MB/s eta 0:00:01\r\u001b[K     |█████████████████████████████▌  | 1.4MB 12.6MB/s eta 0:00:01\r\u001b[K     |█████████████████████████████▊  | 1.4MB 12.6MB/s eta 0:00:01\r\u001b[K     |█████████████████████████████▉  | 1.4MB 12.6MB/s eta 0:00:01\r\u001b[K     |██████████████████████████████  | 1.4MB 12.6MB/s eta 0:00:01\r\u001b[K     |██████████████████████████████▎ | 1.4MB 12.6MB/s eta 0:00:01\r\u001b[K     |██████████████████████████████▌ | 1.4MB 12.6MB/s eta 0:00:01\r\u001b[K     |██████████████████████████████▊ | 1.5MB 12.6MB/s eta 0:00:01\r\u001b[K     |███████████████████████████████ | 1.5MB 12.6MB/s eta 0:00:01\r\u001b[K     |███████████████████████████████▏| 1.5MB 12.6MB/s eta 0:00:01\r\u001b[K     |███████████████████████████████▍| 1.5MB 12.6MB/s eta 0:00:01\r\u001b[K     |███████████████████████████████▋| 1.5MB 12.6MB/s eta 0:00:01\r\u001b[K     |███████████████████████████████▉| 1.5MB 12.6MB/s eta 0:00:01\r\u001b[K     |████████████████████████████████| 1.5MB 12.6MB/s \n",
            "\u001b[?25hRequirement already satisfied: numpy in /usr/local/lib/python3.6/dist-packages (from transformers) (1.19.4)\n",
            "Requirement already satisfied: dataclasses; python_version < \"3.7\" in /usr/local/lib/python3.6/dist-packages (from transformers) (0.8)\n",
            "Requirement already satisfied: tqdm>=4.27 in /usr/local/lib/python3.6/dist-packages (from transformers) (4.41.1)\n",
            "Requirement already satisfied: filelock in /usr/local/lib/python3.6/dist-packages (from transformers) (3.0.12)\n",
            "Requirement already satisfied: packaging in /usr/local/lib/python3.6/dist-packages (from transformers) (20.8)\n",
            "Collecting tokenizers==0.9.4\n",
            "\u001b[?25l  Downloading https://files.pythonhosted.org/packages/0f/1c/e789a8b12e28be5bc1ce2156cf87cb522b379be9cadc7ad8091a4cc107c4/tokenizers-0.9.4-cp36-cp36m-manylinux2010_x86_64.whl (2.9MB)\n",
            "\u001b[K     |████████████████████████████████| 2.9MB 44.8MB/s \n",
            "\u001b[?25hCollecting sacremoses\n",
            "\u001b[?25l  Downloading https://files.pythonhosted.org/packages/7d/34/09d19aff26edcc8eb2a01bed8e98f13a1537005d31e95233fd48216eed10/sacremoses-0.0.43.tar.gz (883kB)\n",
            "\u001b[K     |████████████████████████████████| 890kB 48.7MB/s \n",
            "\u001b[?25hRequirement already satisfied: regex!=2019.12.17 in /usr/local/lib/python3.6/dist-packages (from transformers) (2019.12.20)\n",
            "Requirement already satisfied: requests in /usr/local/lib/python3.6/dist-packages (from transformers) (2.23.0)\n",
            "Requirement already satisfied: pyparsing>=2.0.2 in /usr/local/lib/python3.6/dist-packages (from packaging->transformers) (2.4.7)\n",
            "Requirement already satisfied: six in /usr/local/lib/python3.6/dist-packages (from sacremoses->transformers) (1.15.0)\n",
            "Requirement already satisfied: click in /usr/local/lib/python3.6/dist-packages (from sacremoses->transformers) (7.1.2)\n",
            "Requirement already satisfied: joblib in /usr/local/lib/python3.6/dist-packages (from sacremoses->transformers) (1.0.0)\n",
            "Requirement already satisfied: chardet<4,>=3.0.2 in /usr/local/lib/python3.6/dist-packages (from requests->transformers) (3.0.4)\n",
            "Requirement already satisfied: certifi>=2017.4.17 in /usr/local/lib/python3.6/dist-packages (from requests->transformers) (2020.12.5)\n",
            "Requirement already satisfied: idna<3,>=2.5 in /usr/local/lib/python3.6/dist-packages (from requests->transformers) (2.10)\n",
            "Requirement already satisfied: urllib3!=1.25.0,!=1.25.1,<1.26,>=1.21.1 in /usr/local/lib/python3.6/dist-packages (from requests->transformers) (1.24.3)\n",
            "Building wheels for collected packages: sacremoses\n",
            "  Building wheel for sacremoses (setup.py) ... \u001b[?25l\u001b[?25hdone\n",
            "  Created wheel for sacremoses: filename=sacremoses-0.0.43-cp36-none-any.whl size=893261 sha256=05b79a29ed7ecd9aa3e7ddc531b295d8321a15eb358ffe55bb7ce206fa3e795c\n",
            "  Stored in directory: /root/.cache/pip/wheels/29/3c/fd/7ce5c3f0666dab31a50123635e6fb5e19ceb42ce38d4e58f45\n",
            "Successfully built sacremoses\n",
            "Installing collected packages: tokenizers, sacremoses, transformers\n",
            "Successfully installed sacremoses-0.0.43 tokenizers-0.9.4 transformers-4.1.1\n"
          ],
          "name": "stdout"
        }
      ]
    },
    {
      "cell_type": "code",
      "metadata": {
        "colab": {
          "base_uri": "https://localhost:8080/"
        },
        "id": "IfNKumAzxkFn",
        "outputId": "e9629c14-7972-4557-dac8-277b40666cc3"
      },
      "source": [
        "# Drive\r\n",
        "from google.colab import files\r\n",
        "from google.colab import drive\r\n",
        "\r\n",
        "drive.mount('/content/drive', force_remount=True)"
      ],
      "execution_count": 2,
      "outputs": [
        {
          "output_type": "stream",
          "text": [
            "Mounted at /content/drive\n"
          ],
          "name": "stdout"
        }
      ]
    },
    {
      "cell_type": "code",
      "metadata": {
        "id": "BpgSBoLxtDt2"
      },
      "source": [
        "source_folder = '/content/drive/My Drive/transformers/Data'\r\n",
        "destination_folder = '/content/drive/My Drive/transformers/Model'"
      ],
      "execution_count": 3,
      "outputs": []
    },
    {
      "cell_type": "code",
      "metadata": {
        "colab": {
          "base_uri": "https://localhost:8080/"
        },
        "id": "XYRz41w8x28A",
        "outputId": "a34f9eec-9e90-4c2a-d840-c3e7ed1c8c22"
      },
      "source": [
        "%cd /content/drive/My Drive/transformers/Data"
      ],
      "execution_count": 4,
      "outputs": [
        {
          "output_type": "stream",
          "text": [
            "/content/drive/My Drive/transformers/Data\n"
          ],
          "name": "stdout"
        }
      ]
    },
    {
      "cell_type": "markdown",
      "metadata": {
        "id": "D87UOuPvZWf9"
      },
      "source": [
        "## Preliminaries"
      ]
    },
    {
      "cell_type": "code",
      "metadata": {
        "colab": {
          "base_uri": "https://localhost:8080/",
          "height": 165,
          "referenced_widgets": [
            "4f153468e1e1407bbdaf833f1bc7a3ff",
            "3c02c17aafb44947b9d038ad17deff6e",
            "71f0b1b4b4854c11a18d04f6e0afd2d7",
            "a4bba83807e5438d8e5cf709487f0750",
            "10242cb935b04be2861bd09cbf708c64",
            "0d0b99d1efe94fc39d466b6edfad4485",
            "a2bc36c4ebd442deb9fcbbeefd668c02",
            "b7d0b439b66e4221b54cf5714a6bd2f9",
            "f06a1653ebea4d36a52bd03c26fa5a40",
            "0c71c36c8e5e4028b07150fbe9f47471",
            "b1630dff28ed4cabbfb47d825269239d",
            "3f622348a5a440419359f61db610eb18",
            "f57dba4336604d109fa5049052c3ab91",
            "9c504aa388a543e5b25c4272d79fbe74",
            "98d3d579a740437e832d27cd5163ac5f",
            "27541fee1df047a28e11bc3017a9f737",
            "676c4b820bae4ed699b7a610d4c38d8b",
            "bbb4c160672442e7b4ba92f186271555",
            "53aa9ea8bb4240e79ebd0e9f514dd255",
            "2dc2bbdd65de44d4afe87e471baa2a90",
            "dc949f6f9ee6407a83ee2437d556f6e8",
            "553b1a17ffca4b20bfe56f150bacdb1c",
            "301eb46b113c4503b5a82b2084bfad42",
            "78f10203976f4dee91c1f69188ca7f03"
          ]
        },
        "id": "AtWXlthhPvxl",
        "outputId": "0aa1dac8-da7e-4adf-84e2-6d6ce06913fb"
      },
      "source": [
        "tokenizer = BertTokenizer.from_pretrained('indobenchmark/indobert-base-p1')\r\n"
      ],
      "execution_count": 5,
      "outputs": [
        {
          "output_type": "display_data",
          "data": {
            "application/vnd.jupyter.widget-view+json": {
              "model_id": "4f153468e1e1407bbdaf833f1bc7a3ff",
              "version_minor": 0,
              "version_major": 2
            },
            "text/plain": [
              "HBox(children=(FloatProgress(value=0.0, description='Downloading', max=229167.0, style=ProgressStyle(descripti…"
            ]
          },
          "metadata": {
            "tags": []
          }
        },
        {
          "output_type": "stream",
          "text": [
            "\n"
          ],
          "name": "stdout"
        },
        {
          "output_type": "display_data",
          "data": {
            "application/vnd.jupyter.widget-view+json": {
              "model_id": "f06a1653ebea4d36a52bd03c26fa5a40",
              "version_minor": 0,
              "version_major": 2
            },
            "text/plain": [
              "HBox(children=(FloatProgress(value=0.0, description='Downloading', max=112.0, style=ProgressStyle(description_…"
            ]
          },
          "metadata": {
            "tags": []
          }
        },
        {
          "output_type": "stream",
          "text": [
            "\n"
          ],
          "name": "stdout"
        },
        {
          "output_type": "display_data",
          "data": {
            "application/vnd.jupyter.widget-view+json": {
              "model_id": "676c4b820bae4ed699b7a610d4c38d8b",
              "version_minor": 0,
              "version_major": 2
            },
            "text/plain": [
              "HBox(children=(FloatProgress(value=0.0, description='Downloading', max=2.0, style=ProgressStyle(description_wi…"
            ]
          },
          "metadata": {
            "tags": []
          }
        },
        {
          "output_type": "stream",
          "text": [
            "\n"
          ],
          "name": "stdout"
        }
      ]
    },
    {
      "cell_type": "code",
      "metadata": {
        "id": "gWg-WDVbWyGO"
      },
      "source": [
        "device = torch.device('cuda:0' if torch.cuda.is_available() else 'cpu')"
      ],
      "execution_count": 6,
      "outputs": []
    },
    {
      "cell_type": "markdown",
      "metadata": {
        "id": "C7sIHRLwaoyM"
      },
      "source": [
        "## Model"
      ]
    },
    {
      "cell_type": "code",
      "metadata": {
        "id": "GeZ14Ky5Lqih"
      },
      "source": [
        "# Model parameter\r\n",
        "MAX_SEQ_LEN = 128\r\n",
        "PAD_INDEX = tokenizer.convert_tokens_to_ids(tokenizer.pad_token)\r\n",
        "UNK_INDEX = tokenizer.convert_tokens_to_ids(tokenizer.unk_token)\r\n",
        "\r\n",
        "# Fields\r\n",
        "label_field = Field(sequential=False, use_vocab=False, batch_first=True, dtype=torch.int64)\r\n",
        "text_field = Field(use_vocab=False, tokenize=tokenizer.encode, lower=False, include_lengths=False, batch_first=True,\r\n",
        "                   fix_length=MAX_SEQ_LEN, pad_token=PAD_INDEX, unk_token=UNK_INDEX)\r\n",
        "fields = [('tanggal', text_field),('judul', text_field),('narasi', text_field),('label', label_field)]\r\n",
        "\r\n",
        "train,valid,test = TabularDataset.splits(path=source_folder, train='train.csv', validation='valid.csv', test='test.csv', \r\n",
        "                                           format='csv', fields=fields, skip_header=True)\r\n",
        "\r\n"
      ],
      "execution_count": 7,
      "outputs": []
    },
    {
      "cell_type": "code",
      "metadata": {
        "id": "NSKPey98jRpM"
      },
      "source": [
        "# Iterators\r\n",
        "train_iter = BucketIterator(train, batch_size=8, sort_key=lambda x: len(x.narasi),\r\n",
        "                            device=device, train=True, sort=True, sort_within_batch=True)\r\n",
        "valid_iter = BucketIterator(valid, batch_size=8, sort_key=lambda x: len(x.narasi),\r\n",
        "                            device=device, train=True, sort=True, sort_within_batch=True)\r\n",
        "test_iter = Iterator(test, batch_size=8, device=device, train=False, shuffle=False, sort=False)"
      ],
      "execution_count": 8,
      "outputs": []
    },
    {
      "cell_type": "code",
      "metadata": {
        "id": "YfFxkaJq1WmC"
      },
      "source": [
        "class BERT(nn.Module):\r\n",
        "\r\n",
        "    def __init__(self):\r\n",
        "        super(BERT, self).__init__()\r\n",
        "\r\n",
        "        options_name = \"indobenchmark/indobert-base-p1\"\r\n",
        "        self.encoder = BertForSequenceClassification.from_pretrained(options_name)\r\n",
        "\r\n",
        "    def forward(self, text, label):\r\n",
        "        loss, text_fea = self.encoder(text, labels=label)[:2]\r\n",
        "\r\n",
        "        return loss, text_fea"
      ],
      "execution_count": 9,
      "outputs": []
    },
    {
      "cell_type": "code",
      "metadata": {
        "id": "egjaxiu51prx"
      },
      "source": [
        "# Save and Load Functions\r\n",
        "\r\n",
        "def save_checkpoint(save_path, model, valid_loss):\r\n",
        "\r\n",
        "    if save_path == None:\r\n",
        "        return\r\n",
        "    \r\n",
        "    state_dict = {'model_state_dict': model.state_dict(),\r\n",
        "                  'valid_loss': valid_loss}\r\n",
        "    \r\n",
        "    torch.save(state_dict, save_path)\r\n",
        "    print(f'Model saved to ==> {save_path}')\r\n",
        "\r\n",
        "def load_checkpoint(load_path, model):\r\n",
        "    \r\n",
        "    if load_path==None:\r\n",
        "        return\r\n",
        "    \r\n",
        "    state_dict = torch.load(load_path, map_location=device)\r\n",
        "    print(f'Model loaded from <== {load_path}')\r\n",
        "    \r\n",
        "    model.load_state_dict(state_dict['model_state_dict'])\r\n",
        "    return state_dict['valid_loss']\r\n",
        "\r\n",
        "\r\n",
        "def save_metrics(save_path, train_loss_list, valid_loss_list, global_steps_list):\r\n",
        "\r\n",
        "    if save_path == None:\r\n",
        "        return\r\n",
        "    \r\n",
        "    state_dict = {'train_loss_list': train_loss_list,\r\n",
        "                  'valid_loss_list': valid_loss_list,\r\n",
        "                  'global_steps_list': global_steps_list}\r\n",
        "    \r\n",
        "    torch.save(state_dict, save_path)\r\n",
        "    print(f'Model saved to ==> {save_path}')\r\n",
        "\r\n",
        "\r\n",
        "def load_metrics(load_path):\r\n",
        "\r\n",
        "    if load_path==None:\r\n",
        "        return\r\n",
        "    \r\n",
        "    state_dict = torch.load(load_path, map_location=device)\r\n",
        "    print(f'Model loaded from <== {load_path}')\r\n",
        "    \r\n",
        "    return state_dict['train_loss_list'], state_dict['valid_loss_list'], state_dict['global_steps_list']"
      ],
      "execution_count": 10,
      "outputs": []
    },
    {
      "cell_type": "markdown",
      "metadata": {
        "id": "hsAT0DKHZ1si"
      },
      "source": [
        "## Training and Validation"
      ]
    },
    {
      "cell_type": "code",
      "metadata": {
        "id": "RWwCKZ2z12Nr"
      },
      "source": [
        "# Training Function\r\n",
        "\r\n",
        "def train(model,\r\n",
        "          optimizer,\r\n",
        "          criterion = nn.BCELoss(),\r\n",
        "          train_loader = train_iter,\r\n",
        "          valid_loader = valid_iter,\r\n",
        "          num_epochs = 8,\r\n",
        "          eval_every = len(train_iter) // 2,\r\n",
        "          file_path = destination_folder,\r\n",
        "          best_valid_loss = float(\"Inf\")):\r\n",
        "    \r\n",
        "    # initialize running values\r\n",
        "    running_loss = 0.0\r\n",
        "    valid_running_loss = 0.0\r\n",
        "    global_step = 0\r\n",
        "    train_loss_list = []\r\n",
        "    valid_loss_list = []\r\n",
        "    global_steps_list = []\r\n",
        "\r\n",
        "    # training loop\r\n",
        "    model.train()\r\n",
        "    for epoch in range(num_epochs):\r\n",
        "        for (date, title, text, labels), _ in train_loader:\r\n",
        "            labels = labels.type(torch.LongTensor)           \r\n",
        "            labels = labels.to(device)\r\n",
        "            text = text.type(torch.LongTensor)  \r\n",
        "            text = text.to(device)\r\n",
        "            output = model(text, labels)\r\n",
        "            loss, _ = output\r\n",
        "\r\n",
        "            optimizer.zero_grad()\r\n",
        "            loss.backward()\r\n",
        "            optimizer.step()\r\n",
        "\r\n",
        "            # update running values\r\n",
        "            running_loss += loss.item()\r\n",
        "            global_step += 1\r\n",
        "\r\n",
        "            # evaluation step\r\n",
        "            if global_step % eval_every == 0:\r\n",
        "                model.eval()\r\n",
        "                with torch.no_grad():                    \r\n",
        "\r\n",
        "                    # validation loop\r\n",
        "                    for (date, title, text, labels), _ in valid_loader:\r\n",
        "                        labels = labels.type(torch.LongTensor)           \r\n",
        "                        labels = labels.to(device)\r\n",
        "                        text = text.type(torch.LongTensor)  \r\n",
        "                        text = text.to(device)\r\n",
        "                        output = model(text, labels)\r\n",
        "                        loss, _ = output\r\n",
        "                        \r\n",
        "                        valid_running_loss += loss.item()\r\n",
        "\r\n",
        "                # evaluation\r\n",
        "                average_train_loss = running_loss / eval_every\r\n",
        "                average_valid_loss = valid_running_loss / len(valid_loader)\r\n",
        "                train_loss_list.append(average_train_loss)\r\n",
        "                valid_loss_list.append(average_valid_loss)\r\n",
        "                global_steps_list.append(global_step)\r\n",
        "\r\n",
        "                # resetting running values\r\n",
        "                running_loss = 0.0                \r\n",
        "                valid_running_loss = 0.0\r\n",
        "                model.train()\r\n",
        "\r\n",
        "                # print progress\r\n",
        "                print('Epoch [{}/{}], Step [{}/{}], Train Loss: {:.4f}, Valid Loss: {:.4f}'\r\n",
        "                      .format(epoch+1, num_epochs, global_step, num_epochs*len(train_loader),\r\n",
        "                              average_train_loss, average_valid_loss))\r\n",
        "                \r\n",
        "                # checkpoint\r\n",
        "                if best_valid_loss > average_valid_loss:\r\n",
        "                    best_valid_loss = average_valid_loss\r\n",
        "                    save_checkpoint(file_path + '/' + 'model.pt', model, best_valid_loss)\r\n",
        "                    save_metrics(file_path + '/' + 'metrics.pt', train_loss_list, valid_loss_list, global_steps_list)\r\n",
        "    \r\n",
        "    save_metrics(file_path + '/' + 'metrics.pt', train_loss_list, valid_loss_list, global_steps_list)\r\n",
        "    print('Finished Training!')"
      ],
      "execution_count": 11,
      "outputs": []
    },
    {
      "cell_type": "code",
      "metadata": {
        "colab": {
          "base_uri": "https://localhost:8080/",
          "height": 829,
          "referenced_widgets": [
            "12bc22dd8f7f42b5bb27c3201487d9e3",
            "00e9f92da0034bc9a1983aae29a61052",
            "751bde868d3c4273a423db569264985f",
            "1063a32780734b25a0645e7fd9eb027c",
            "86336e3a979b4b90aaefeec2cf67431d",
            "d2c7c7575f2b49ed81ee7379daae86d2",
            "2b47e428dfe447b6af25dc86be7174b4",
            "8ae215ee8842444f9ee22f143a03423d",
            "72beb41fbfbc4d1c9863594467ce16d5",
            "48ddbe2d44674514a28503abaac08ebd",
            "06bc1e3979b44cfe952fd5b47c17a5ee",
            "955eb196c0db419da46f504eb0d1841f",
            "a2a803e7059945ab84089f30ab5b254d",
            "e824e6d9ab6b4791b52a725d0bd3a4ef",
            "c9e12577a61343f68054e878aca0cefd",
            "32c51da563e84858a3df01e6d8090b44"
          ]
        },
        "id": "qgEMeGkE25GR",
        "outputId": "068d2a7f-7a31-4e0a-aac4-2992dfaf5e2f"
      },
      "source": [
        "model = BERT().to(device)\r\n",
        "optimizer = optim.Adam(model.parameters(), lr=2e-5)\r\n",
        "\r\n",
        "train(model=model, optimizer=optimizer)"
      ],
      "execution_count": 12,
      "outputs": [
        {
          "output_type": "display_data",
          "data": {
            "application/vnd.jupyter.widget-view+json": {
              "model_id": "12bc22dd8f7f42b5bb27c3201487d9e3",
              "version_minor": 0,
              "version_major": 2
            },
            "text/plain": [
              "HBox(children=(FloatProgress(value=0.0, description='Downloading', max=1534.0, style=ProgressStyle(description…"
            ]
          },
          "metadata": {
            "tags": []
          }
        },
        {
          "output_type": "stream",
          "text": [
            "\n"
          ],
          "name": "stdout"
        },
        {
          "output_type": "display_data",
          "data": {
            "application/vnd.jupyter.widget-view+json": {
              "model_id": "72beb41fbfbc4d1c9863594467ce16d5",
              "version_minor": 0,
              "version_major": 2
            },
            "text/plain": [
              "HBox(children=(FloatProgress(value=0.0, description='Downloading', max=497810400.0, style=ProgressStyle(descri…"
            ]
          },
          "metadata": {
            "tags": []
          }
        },
        {
          "output_type": "stream",
          "text": [
            "\n"
          ],
          "name": "stdout"
        },
        {
          "output_type": "stream",
          "text": [
            "Some weights of BertForSequenceClassification were not initialized from the model checkpoint at indobenchmark/indobert-base-p1 and are newly initialized: ['classifier.bias', 'classifier.weight']\n",
            "You should probably TRAIN this model on a down-stream task to be able to use it for predictions and inference.\n"
          ],
          "name": "stderr"
        },
        {
          "output_type": "stream",
          "text": [
            "Epoch [1/8], Step [277/4440], Train Loss: 0.7311, Valid Loss: 0.7105\n",
            "Model saved to ==> /content/drive/My Drive/transformers/Model/model.pt\n",
            "Model saved to ==> /content/drive/My Drive/transformers/Model/metrics.pt\n",
            "Epoch [1/8], Step [554/4440], Train Loss: 0.7228, Valid Loss: 0.7014\n",
            "Model saved to ==> /content/drive/My Drive/transformers/Model/model.pt\n",
            "Model saved to ==> /content/drive/My Drive/transformers/Model/metrics.pt\n",
            "Epoch [2/8], Step [831/4440], Train Loss: 0.6553, Valid Loss: 0.6197\n",
            "Model saved to ==> /content/drive/My Drive/transformers/Model/model.pt\n",
            "Model saved to ==> /content/drive/My Drive/transformers/Model/metrics.pt\n",
            "Epoch [2/8], Step [1108/4440], Train Loss: 0.6224, Valid Loss: 0.5725\n",
            "Model saved to ==> /content/drive/My Drive/transformers/Model/model.pt\n",
            "Model saved to ==> /content/drive/My Drive/transformers/Model/metrics.pt\n",
            "Epoch [3/8], Step [1385/4440], Train Loss: 0.4375, Valid Loss: 0.5369\n",
            "Model saved to ==> /content/drive/My Drive/transformers/Model/model.pt\n",
            "Model saved to ==> /content/drive/My Drive/transformers/Model/metrics.pt\n",
            "Epoch [3/8], Step [1662/4440], Train Loss: 0.4516, Valid Loss: 0.4374\n",
            "Model saved to ==> /content/drive/My Drive/transformers/Model/model.pt\n",
            "Model saved to ==> /content/drive/My Drive/transformers/Model/metrics.pt\n",
            "Epoch [4/8], Step [1939/4440], Train Loss: 0.2244, Valid Loss: 0.5613\n",
            "Epoch [4/8], Step [2216/4440], Train Loss: 0.2667, Valid Loss: 0.4726\n",
            "Epoch [5/8], Step [2493/4440], Train Loss: 0.1432, Valid Loss: 0.3738\n",
            "Model saved to ==> /content/drive/My Drive/transformers/Model/model.pt\n",
            "Model saved to ==> /content/drive/My Drive/transformers/Model/metrics.pt\n",
            "Epoch [5/8], Step [2770/4440], Train Loss: 0.1349, Valid Loss: 0.3542\n",
            "Model saved to ==> /content/drive/My Drive/transformers/Model/model.pt\n",
            "Model saved to ==> /content/drive/My Drive/transformers/Model/metrics.pt\n",
            "Epoch [6/8], Step [3047/4440], Train Loss: 0.1005, Valid Loss: 0.3077\n",
            "Model saved to ==> /content/drive/My Drive/transformers/Model/model.pt\n",
            "Model saved to ==> /content/drive/My Drive/transformers/Model/metrics.pt\n",
            "Epoch [6/8], Step [3324/4440], Train Loss: 0.0694, Valid Loss: 0.6027\n",
            "Epoch [7/8], Step [3601/4440], Train Loss: 0.0678, Valid Loss: 0.2726\n",
            "Model saved to ==> /content/drive/My Drive/transformers/Model/model.pt\n",
            "Model saved to ==> /content/drive/My Drive/transformers/Model/metrics.pt\n",
            "Epoch [7/8], Step [3878/4440], Train Loss: 0.0270, Valid Loss: 0.5240\n",
            "Epoch [8/8], Step [4155/4440], Train Loss: 0.0653, Valid Loss: 0.2980\n",
            "Epoch [8/8], Step [4432/4440], Train Loss: 0.0152, Valid Loss: 0.5963\n",
            "Model saved to ==> /content/drive/My Drive/transformers/Model/metrics.pt\n",
            "Finished Training!\n"
          ],
          "name": "stdout"
        }
      ]
    },
    {
      "cell_type": "code",
      "metadata": {
        "id": "aB-0Up2JSsCC",
        "colab": {
          "base_uri": "https://localhost:8080/",
          "height": 297
        },
        "outputId": "92ce7619-390d-485f-da14-c0a2f0eefdb6"
      },
      "source": [
        "train_loss_list, valid_loss_list, global_steps_list = load_metrics(destination_folder + '/metrics.pt')\r\n",
        "plt.plot(global_steps_list, train_loss_list, label='Train')\r\n",
        "plt.plot(global_steps_list, valid_loss_list, label='Valid')\r\n",
        "plt.xlabel('Global Steps')\r\n",
        "plt.ylabel('Loss')\r\n",
        "plt.legend()\r\n",
        "plt.show()"
      ],
      "execution_count": 13,
      "outputs": [
        {
          "output_type": "stream",
          "text": [
            "Model loaded from <== /content/drive/My Drive/transformers/Model/metrics.pt\n"
          ],
          "name": "stdout"
        },
        {
          "output_type": "display_data",
          "data": {
            "image/png": "[encoded data removed]",
            "text/plain": [
              "<Figure size 432x288 with 1 Axes>"
            ]
          },
          "metadata": {
            "tags": [],
            "needs_background": "light"
          }
        }
      ]
    },
    {
      "cell_type": "markdown",
      "metadata": {
        "id": "2HlW7cvQaYvl"
      },
      "source": [
        "## Testing"
      ]
    },
    {
      "cell_type": "code",
      "metadata": {
        "id": "uMcQfFEFS1AB",
        "colab": {
          "base_uri": "https://localhost:8080/",
          "height": 541
        },
        "outputId": "c0bb833f-81e1-49ab-c3ab-2902bac974f9"
      },
      "source": [
        "# Evaluation Function\r\n",
        "\r\n",
        "def evaluate(model, test_loader):\r\n",
        "    y_pred = []\r\n",
        "    y_true = []\r\n",
        "\r\n",
        "    model.eval()\r\n",
        "    with torch.no_grad():\r\n",
        "        for (date, title, text, labels), _ in test_loader:\r\n",
        "\r\n",
        "                labels = labels.type(torch.LongTensor)           \r\n",
        "                labels = labels.to(device)\r\n",
        "                text = text.type(torch.LongTensor)  \r\n",
        "                text = text.to(device)\r\n",
        "                output = model(text, labels)\r\n",
        "\r\n",
        "                _, output = output\r\n",
        "                y_pred.extend(torch.argmax(output, 1).tolist())\r\n",
        "                y_true.extend(labels.tolist())\r\n",
        "    \r\n",
        "    print('Classification Report:')\r\n",
        "    print(classification_report(y_true, y_pred, labels=[1,0], digits=4))\r\n",
        "    \r\n",
        "    cm = confusion_matrix(y_true, y_pred, labels=[1,0])\r\n",
        "    ax= plt.subplot()\r\n",
        "    sns.heatmap(cm, annot=True, ax = ax, cmap='Blues', fmt=\"d\")\r\n",
        "\r\n",
        "    ax.set_title('Confusion Matrix')\r\n",
        "\r\n",
        "    ax.set_xlabel('Predicted Labels')\r\n",
        "    ax.set_ylabel('True Labels')\r\n",
        "\r\n",
        "    ax.xaxis.set_ticklabels(['HOAX', 'REAL'])\r\n",
        "    ax.yaxis.set_ticklabels(['HOAX', 'REAL'])\r\n",
        "\r\n",
        "best_model = BERT().to(device)\r\n",
        "\r\n",
        "load_checkpoint(destination_folder + '/model.pt', best_model)\r\n",
        "\r\n",
        "evaluate(best_model, test_iter)"
      ],
      "execution_count": 14,
      "outputs": [
        {
          "output_type": "stream",
          "text": [
            "Some weights of BertForSequenceClassification were not initialized from the model checkpoint at indobenchmark/indobert-base-p1 and are newly initialized: ['classifier.bias', 'classifier.weight']\n",
            "You should probably TRAIN this model on a down-stream task to be able to use it for predictions and inference.\n"
          ],
          "name": "stderr"
        },
        {
          "output_type": "stream",
          "text": [
            "Model loaded from <== /content/drive/My Drive/transformers/Model/model.pt\n",
            "Classification Report:\n",
            "              precision    recall  f1-score   support\n",
            "\n",
            "           1     0.9479    0.9452    0.9465       693\n",
            "           0     0.9453    0.9481    0.9467       693\n",
            "\n",
            "    accuracy                         0.9466      1386\n",
            "   macro avg     0.9466    0.9466    0.9466      1386\n",
            "weighted avg     0.9466    0.9466    0.9466      1386\n",
            "\n"
          ],
          "name": "stdout"
        },
        {
          "output_type": "display_data",
          "data": {
            "image/png": "[encoded data removed]",
            "text/plain": [
              "<Figure size 432x288 with 2 Axes>"
            ]
          },
          "metadata": {
            "tags": [],
            "needs_background": "light"
          }
        }
      ]
    }
  ]
}