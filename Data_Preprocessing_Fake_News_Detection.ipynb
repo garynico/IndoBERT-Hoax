{
  "nbformat": 4,
  "nbformat_minor": 0,
  "metadata": {
    "colab": {
      "name": "Data Preprocessing Fake News Detection",
      "provenance": [],
      "collapsed_sections": [
        "4vJD11XzR8v4",
        "zQWk4bXC9esv"
      ],
      "include_colab_link": true
    },
    "kernelspec": {
      "name": "python3",
      "display_name": "Python 3"
    },
    "accelerator": "GPU"
  },
  "cells": [
    {
      "cell_type": "markdown",
      "metadata": {
        "id": "view-in-github",
        "colab_type": "text"
      },
      "source": [
        "<a href=\"https://colab.research.google.com/github/garynico/IndoBERT-Hoax/blob/main/Data_Preprocessing_Fake_News_Detection.ipynb\" target=\"_parent\"><img src=\"https://colab.research.google.com/assets/colab-badge.svg\" alt=\"Open In Colab\"/></a>"
      ]
    },
    {
      "cell_type": "markdown",
      "metadata": {
        "id": "gaLzh5KkVt6V"
      },
      "source": [
        "# Fake News Hoax Detection - Data Preprocessing"
      ]
    },
    {
      "cell_type": "markdown",
      "metadata": {
        "id": "kgyTYNl0V833"
      },
      "source": [
        "### Import library"
      ]
    },
    {
      "cell_type": "code",
      "metadata": {
        "id": "rboLvuQc6SN-"
      },
      "source": [
        "import pandas as pd\n",
        "from google.colab import files\n",
        "from sklearn.model_selection import train_test_split"
      ],
      "execution_count": 1,
      "outputs": []
    },
    {
      "cell_type": "code",
      "metadata": {
        "id": "fdNPUJyfV6-m",
        "colab": {
          "base_uri": "https://localhost:8080/"
        },
        "outputId": "48382757-5ca4-43a7-9492-f50827817ccc"
      },
      "source": [
        "from google.colab import drive\r\n",
        "from google.colab import files\r\n",
        "\r\n",
        "drive.mount('/content/drive', force_remount=True)"
      ],
      "execution_count": 2,
      "outputs": [
        {
          "output_type": "stream",
          "text": [
            "Mounted at /content/drive\n"
          ],
          "name": "stdout"
        }
      ]
    },
    {
      "cell_type": "code",
      "metadata": {
        "id": "R57qEynyWE1m",
        "colab": {
          "base_uri": "https://localhost:8080/"
        },
        "outputId": "e95271af-cf22-42d2-8df6-11dfccd15e46"
      },
      "source": [
        "destination_folder_data = '/content/drive/My Drive/transformers/Data'\r\n",
        "%cd /content/drive/My Drive/transformers/Data"
      ],
      "execution_count": 3,
      "outputs": [
        {
          "output_type": "stream",
          "text": [
            "/content/drive/My Drive/transformers/Data\n"
          ],
          "name": "stdout"
        }
      ]
    },
    {
      "cell_type": "markdown",
      "metadata": {
        "id": "uDEwat6sRyPH"
      },
      "source": [
        "### Import Raw Data"
      ]
    },
    {
      "cell_type": "code",
      "metadata": {
        "id": "McjJinpt6xGS"
      },
      "source": [
        "url = 'https://raw.githubusercontent.com/garynico/IndoBERT-Hoax/main/train_new.csv'\n",
        "df = pd.read_csv(url)"
      ],
      "execution_count": 4,
      "outputs": []
    },
    {
      "cell_type": "markdown",
      "metadata": {
        "id": "Ux7ti-gj-2Nz"
      },
      "source": [
        "### Data Exploration"
      ]
    },
    {
      "cell_type": "code",
      "metadata": {
        "id": "o3_v5lNnA_Hs",
        "colab": {
          "base_uri": "https://localhost:8080/",
          "height": 355
        },
        "outputId": "81b34e95-b2d7-4c14-be61-7d29e41ab0fc"
      },
      "source": [
        "df.head(10)"
      ],
      "execution_count": 5,
      "outputs": [
        {
          "output_type": "execute_result",
          "data": {
            "text/html": [
              "<div>\n",
              "<style scoped>\n",
              "    .dataframe tbody tr th:only-of-type {\n",
              "        vertical-align: middle;\n",
              "    }\n",
              "\n",
              "    .dataframe tbody tr th {\n",
              "        vertical-align: top;\n",
              "    }\n",
              "\n",
              "    .dataframe thead th {\n",
              "        text-align: right;\n",
              "    }\n",
              "</style>\n",
              "<table border=\"1\" class=\"dataframe\">\n",
              "  <thead>\n",
              "    <tr style=\"text-align: right;\">\n",
              "      <th></th>\n",
              "      <th>ID</th>\n",
              "      <th>tanggal</th>\n",
              "      <th>judul</th>\n",
              "      <th>narasi</th>\n",
              "      <th>label</th>\n",
              "    </tr>\n",
              "  </thead>\n",
              "  <tbody>\n",
              "    <tr>\n",
              "      <th>0</th>\n",
              "      <td>0</td>\n",
              "      <td>17-Aug-20</td>\n",
              "      <td>Pemakaian Masker Menyebabkan Penyakit Legionna...</td>\n",
              "      <td>A caller to a radio talk show recently shared ...</td>\n",
              "      <td>1</td>\n",
              "    </tr>\n",
              "    <tr>\n",
              "      <th>1</th>\n",
              "      <td>1</td>\n",
              "      <td>17-Jul-20</td>\n",
              "      <td>Instruksi Gubernur Jateng tentang penilangan  ...</td>\n",
              "      <td>Yth.Seluruh Anggota Grup Sesuai Instruksi Gube...</td>\n",
              "      <td>1</td>\n",
              "    </tr>\n",
              "    <tr>\n",
              "      <th>2</th>\n",
              "      <td>2</td>\n",
              "      <td>13-Jul-20</td>\n",
              "      <td>Foto Jim Rohn: Jokowi adalah presiden terbaik ...</td>\n",
              "      <td>Jokowi adalah presiden terbaik dlm sejarah ban...</td>\n",
              "      <td>1</td>\n",
              "    </tr>\n",
              "    <tr>\n",
              "      <th>3</th>\n",
              "      <td>3</td>\n",
              "      <td>8-Jul-20</td>\n",
              "      <td>ini bukan politik, tapi kenyataan Pak Jokowi b...</td>\n",
              "      <td>Maaf Mas2 dan Mbak2, ini bukan politik, tapi k...</td>\n",
              "      <td>1</td>\n",
              "    </tr>\n",
              "    <tr>\n",
              "      <th>4</th>\n",
              "      <td>4</td>\n",
              "      <td>24-Jun-20</td>\n",
              "      <td>Foto Kadrun kalo lihat foto ini panas dingin</td>\n",
              "      <td>Kadrun kalo lihat foto ini panas dingin . .</td>\n",
              "      <td>1</td>\n",
              "    </tr>\n",
              "    <tr>\n",
              "      <th>5</th>\n",
              "      <td>5</td>\n",
              "      <td>17-Jun-20</td>\n",
              "      <td>event promo smartphone JNE 2020 spesial di bul...</td>\n",
              "      <td>selamat siang teman teman fb ku semuanya🤩,cuma...</td>\n",
              "      <td>1</td>\n",
              "    </tr>\n",
              "    <tr>\n",
              "      <th>6</th>\n",
              "      <td>6</td>\n",
              "      <td>5-May-20</td>\n",
              "      <td>MEREKA SUDAH MEMPERSIAPKAN DIRI DENGAN BAIK UN...</td>\n",
              "      <td>LIHATLAH MEREKA SUDAH MEMPERSIAPKAN DIRI DENGA...</td>\n",
              "      <td>1</td>\n",
              "    </tr>\n",
              "    <tr>\n",
              "      <th>7</th>\n",
              "      <td>7</td>\n",
              "      <td>24-Mar-20</td>\n",
              "      <td>Foto Presiden Italia menangis karena tak cukup...</td>\n",
              "      <td>Italia punya fasilitas perawatan kesehatan ter...</td>\n",
              "      <td>1</td>\n",
              "    </tr>\n",
              "    <tr>\n",
              "      <th>8</th>\n",
              "      <td>8</td>\n",
              "      <td>9-Jan-20</td>\n",
              "      <td>Kapolres Timor Tengah Utara , Nusa Tenggara Ti...</td>\n",
              "      <td>Polisi goblok. Bukanya cpet” d tolongin malah ...</td>\n",
              "      <td>1</td>\n",
              "    </tr>\n",
              "    <tr>\n",
              "      <th>9</th>\n",
              "      <td>9</td>\n",
              "      <td>24-Dec-19</td>\n",
              "      <td>Video Polisi china telah menganiaya wanita uig...</td>\n",
              "      <td>Polisi china telah menganiaya wanita uighur le...</td>\n",
              "      <td>1</td>\n",
              "    </tr>\n",
              "  </tbody>\n",
              "</table>\n",
              "</div>"
            ],
            "text/plain": [
              "   ID    tanggal  ...                                             narasi label\n",
              "0   0  17-Aug-20  ...  A caller to a radio talk show recently shared ...     1\n",
              "1   1  17-Jul-20  ...  Yth.Seluruh Anggota Grup Sesuai Instruksi Gube...     1\n",
              "2   2  13-Jul-20  ...  Jokowi adalah presiden terbaik dlm sejarah ban...     1\n",
              "3   3   8-Jul-20  ...  Maaf Mas2 dan Mbak2, ini bukan politik, tapi k...     1\n",
              "4   4  24-Jun-20  ...        Kadrun kalo lihat foto ini panas dingin . .     1\n",
              "5   5  17-Jun-20  ...  selamat siang teman teman fb ku semuanya🤩,cuma...     1\n",
              "6   6   5-May-20  ...  LIHATLAH MEREKA SUDAH MEMPERSIAPKAN DIRI DENGA...     1\n",
              "7   7  24-Mar-20  ...  Italia punya fasilitas perawatan kesehatan ter...     1\n",
              "8   8   9-Jan-20  ...  Polisi goblok. Bukanya cpet” d tolongin malah ...     1\n",
              "9   9  24-Dec-19  ...  Polisi china telah menganiaya wanita uighur le...     1\n",
              "\n",
              "[10 rows x 5 columns]"
            ]
          },
          "metadata": {
            "tags": []
          },
          "execution_count": 5
        }
      ]
    },
    {
      "cell_type": "code",
      "metadata": {
        "id": "84pf5q1VUryy",
        "colab": {
          "base_uri": "https://localhost:8080/"
        },
        "outputId": "354bac76-a41a-4f94-df1f-14404201813c"
      },
      "source": [
        "from collections import Counter\r\n",
        "print(Counter(df['label']))"
      ],
      "execution_count": 6,
      "outputs": [
        {
          "output_type": "stream",
          "text": [
            "Counter({1: 3465, 0: 766})\n"
          ],
          "name": "stdout"
        }
      ]
    },
    {
      "cell_type": "markdown",
      "metadata": {
        "id": "mRG-BNreVphc"
      },
      "source": [
        "### Data Resampling"
      ]
    },
    {
      "cell_type": "code",
      "metadata": {
        "id": "lmGsl7xbVT9N"
      },
      "source": [
        "df_real = df[df['label'] == 0]\r\n",
        "df_fake = df[df['label'] == 1]"
      ],
      "execution_count": 7,
      "outputs": []
    },
    {
      "cell_type": "code",
      "metadata": {
        "id": "-8oIBYVuWDGI"
      },
      "source": [
        "from sklearn.utils import resample\r\n",
        "\r\n",
        "df_real_resample = resample(df_real,\r\n",
        "                          replace=True, # sample with replacement\r\n",
        "                          n_samples=len(df_fake), # match number in majority class\r\n",
        "                          random_state=27) # reproducible results"
      ],
      "execution_count": 8,
      "outputs": []
    },
    {
      "cell_type": "code",
      "metadata": {
        "id": "O14G-LlOXhHQ",
        "colab": {
          "base_uri": "https://localhost:8080/"
        },
        "outputId": "fd68d9f3-6b9b-4fcd-c2c2-d68f6668b628"
      },
      "source": [
        "df = pd.concat([df_real_resample, df_fake])\r\n",
        "print(Counter(df['label']))"
      ],
      "execution_count": 9,
      "outputs": [
        {
          "output_type": "stream",
          "text": [
            "Counter({0: 3465, 1: 3465})\n"
          ],
          "name": "stdout"
        }
      ]
    },
    {
      "cell_type": "markdown",
      "metadata": {
        "id": "gpT2nVi3_DJ8"
      },
      "source": [
        "## Data Cleansing"
      ]
    },
    {
      "cell_type": "markdown",
      "metadata": {
        "id": "qjAo90Ny-990"
      },
      "source": [
        "Remove Emojis"
      ]
    },
    {
      "cell_type": "code",
      "metadata": {
        "id": "Q9l7zgGmBBgq",
        "colab": {
          "base_uri": "https://localhost:8080/",
          "height": 355
        },
        "outputId": "11844d83-a750-4204-936b-2c273ae34b19"
      },
      "source": [
        "df = df.astype(str).apply(lambda x: x.str.encode('ascii', 'ignore').str.decode('ascii'))\n",
        "df.head(10)"
      ],
      "execution_count": 10,
      "outputs": [
        {
          "output_type": "execute_result",
          "data": {
            "text/html": [
              "<div>\n",
              "<style scoped>\n",
              "    .dataframe tbody tr th:only-of-type {\n",
              "        vertical-align: middle;\n",
              "    }\n",
              "\n",
              "    .dataframe tbody tr th {\n",
              "        vertical-align: top;\n",
              "    }\n",
              "\n",
              "    .dataframe thead th {\n",
              "        text-align: right;\n",
              "    }\n",
              "</style>\n",
              "<table border=\"1\" class=\"dataframe\">\n",
              "  <thead>\n",
              "    <tr style=\"text-align: right;\">\n",
              "      <th></th>\n",
              "      <th>ID</th>\n",
              "      <th>tanggal</th>\n",
              "      <th>judul</th>\n",
              "      <th>narasi</th>\n",
              "      <th>label</th>\n",
              "    </tr>\n",
              "  </thead>\n",
              "  <tbody>\n",
              "    <tr>\n",
              "      <th>138</th>\n",
              "      <td>138</td>\n",
              "      <td>8-Feb-18</td>\n",
              "      <td>Penganiayaan Ulama di Bogor</td>\n",
              "      <td>Utk Kesekian kalinya terjadi Penganiayaan thdp...</td>\n",
              "      <td>0</td>\n",
              "    </tr>\n",
              "    <tr>\n",
              "      <th>3790</th>\n",
              "      <td>3790</td>\n",
              "      <td>19-Sep-17</td>\n",
              "      <td>: Ribuan Etnis China Singapura Turun ke Jalan ...</td>\n",
              "      <td>PECAHHH!!! Ribuan Etnis China Singapura Turun ...</td>\n",
              "      <td>0</td>\n",
              "    </tr>\n",
              "    <tr>\n",
              "      <th>2937</th>\n",
              "      <td>2937</td>\n",
              "      <td>19-Nov-16</td>\n",
              "      <td>4 Mahasiswa Hanya Butuh 36 Jam Atasi Hoax di F...</td>\n",
              "      <td>Sebenarnya, sesusah apa memberantas berita hoa...</td>\n",
              "      <td>0</td>\n",
              "    </tr>\n",
              "    <tr>\n",
              "      <th>4153</th>\n",
              "      <td>4153</td>\n",
              "      <td>15-Agu-18</td>\n",
              "      <td>Belum Ada Rencana Ujian Nasional 2019 Diseleng...</td>\n",
              "      <td>Kepala BSNP, Bambang Suryadi menjelaskan isu U...</td>\n",
              "      <td>0</td>\n",
              "    </tr>\n",
              "    <tr>\n",
              "      <th>1679</th>\n",
              "      <td>1679</td>\n",
              "      <td>14-Mar-18</td>\n",
              "      <td>@rudiantara_id: Tweet @PartaiHulk Ini Mengandu...</td>\n",
              "      <td>Slmt pagi. Tweet @PartaiHulk ini mengandung fi...</td>\n",
              "      <td>0</td>\n",
              "    </tr>\n",
              "    <tr>\n",
              "      <th>164</th>\n",
              "      <td>164</td>\n",
              "      <td>22-Apr-19</td>\n",
              "      <td>15 Kotak Suara DPRD Jambi Dibakar OTK</td>\n",
              "      <td>Berita Pagi ini di TV One, Berhubung 02 unggul...</td>\n",
              "      <td>0</td>\n",
              "    </tr>\n",
              "    <tr>\n",
              "      <th>2896</th>\n",
              "      <td>2896</td>\n",
              "      <td>30-Sep-16</td>\n",
              "      <td>Tidak Ada Media Yang Meliput Demo Buruh Di Dep...</td>\n",
              "      <td>Tidak Ada Media Yang Meliput Demo Buruh Di Dep...</td>\n",
              "      <td>0</td>\n",
              "    </tr>\n",
              "    <tr>\n",
              "      <th>807</th>\n",
              "      <td>807</td>\n",
              "      <td>27-Dec-17</td>\n",
              "      <td>Membumikan Bikini di Tempat Umum dengan Selfie</td>\n",
              "      <td>Btw. Inilah Revolusi Mental Pancasila ala Joko...</td>\n",
              "      <td>0</td>\n",
              "    </tr>\n",
              "    <tr>\n",
              "      <th>22</th>\n",
              "      <td>22</td>\n",
              "      <td>8-Mar-17</td>\n",
              "      <td>Nezar Patria adalah Kader PKI, Ikut Rapat Seti...</td>\n",
              "      <td>Nezar Patria adalah Kader PKI, Ikut Rapat Seti...</td>\n",
              "      <td>0</td>\n",
              "    </tr>\n",
              "    <tr>\n",
              "      <th>3440</th>\n",
              "      <td>3440</td>\n",
              "      <td>27-Nov-16</td>\n",
              "      <td>Nama Jalan Di Pulau Reklamasi</td>\n",
              "      <td>Nama jalan di Pulau Reklamasi, seriuuuuus ya m...</td>\n",
              "      <td>0</td>\n",
              "    </tr>\n",
              "  </tbody>\n",
              "</table>\n",
              "</div>"
            ],
            "text/plain": [
              "        ID    tanggal  ...                                             narasi label\n",
              "138    138   8-Feb-18  ...  Utk Kesekian kalinya terjadi Penganiayaan thdp...     0\n",
              "3790  3790  19-Sep-17  ...  PECAHHH!!! Ribuan Etnis China Singapura Turun ...     0\n",
              "2937  2937  19-Nov-16  ...  Sebenarnya, sesusah apa memberantas berita hoa...     0\n",
              "4153  4153  15-Agu-18  ...  Kepala BSNP, Bambang Suryadi menjelaskan isu U...     0\n",
              "1679  1679  14-Mar-18  ...  Slmt pagi. Tweet @PartaiHulk ini mengandung fi...     0\n",
              "164    164  22-Apr-19  ...  Berita Pagi ini di TV One, Berhubung 02 unggul...     0\n",
              "2896  2896  30-Sep-16  ...  Tidak Ada Media Yang Meliput Demo Buruh Di Dep...     0\n",
              "807    807  27-Dec-17  ...  Btw. Inilah Revolusi Mental Pancasila ala Joko...     0\n",
              "22      22   8-Mar-17  ...  Nezar Patria adalah Kader PKI, Ikut Rapat Seti...     0\n",
              "3440  3440  27-Nov-16  ...  Nama jalan di Pulau Reklamasi, seriuuuuus ya m...     0\n",
              "\n",
              "[10 rows x 5 columns]"
            ]
          },
          "metadata": {
            "tags": []
          },
          "execution_count": 10
        }
      ]
    },
    {
      "cell_type": "markdown",
      "metadata": {
        "id": "4vJD11XzR8v4"
      },
      "source": [
        "###### Lowercase & Capitalize Title"
      ]
    },
    {
      "cell_type": "code",
      "metadata": {
        "id": "-PvUZQ2qBfT1",
        "colab": {
          "base_uri": "https://localhost:8080/",
          "height": 355
        },
        "outputId": "30e4407c-4f29-497c-912f-8e41a6c2c423"
      },
      "source": [
        "df['judul'] = df['judul'].str.title()\n",
        "df.head(10)"
      ],
      "execution_count": 11,
      "outputs": [
        {
          "output_type": "execute_result",
          "data": {
            "text/html": [
              "<div>\n",
              "<style scoped>\n",
              "    .dataframe tbody tr th:only-of-type {\n",
              "        vertical-align: middle;\n",
              "    }\n",
              "\n",
              "    .dataframe tbody tr th {\n",
              "        vertical-align: top;\n",
              "    }\n",
              "\n",
              "    .dataframe thead th {\n",
              "        text-align: right;\n",
              "    }\n",
              "</style>\n",
              "<table border=\"1\" class=\"dataframe\">\n",
              "  <thead>\n",
              "    <tr style=\"text-align: right;\">\n",
              "      <th></th>\n",
              "      <th>ID</th>\n",
              "      <th>tanggal</th>\n",
              "      <th>judul</th>\n",
              "      <th>narasi</th>\n",
              "      <th>label</th>\n",
              "    </tr>\n",
              "  </thead>\n",
              "  <tbody>\n",
              "    <tr>\n",
              "      <th>138</th>\n",
              "      <td>138</td>\n",
              "      <td>8-Feb-18</td>\n",
              "      <td>Penganiayaan Ulama Di Bogor</td>\n",
              "      <td>Utk Kesekian kalinya terjadi Penganiayaan thdp...</td>\n",
              "      <td>0</td>\n",
              "    </tr>\n",
              "    <tr>\n",
              "      <th>3790</th>\n",
              "      <td>3790</td>\n",
              "      <td>19-Sep-17</td>\n",
              "      <td>: Ribuan Etnis China Singapura Turun Ke Jalan ...</td>\n",
              "      <td>PECAHHH!!! Ribuan Etnis China Singapura Turun ...</td>\n",
              "      <td>0</td>\n",
              "    </tr>\n",
              "    <tr>\n",
              "      <th>2937</th>\n",
              "      <td>2937</td>\n",
              "      <td>19-Nov-16</td>\n",
              "      <td>4 Mahasiswa Hanya Butuh 36 Jam Atasi Hoax Di F...</td>\n",
              "      <td>Sebenarnya, sesusah apa memberantas berita hoa...</td>\n",
              "      <td>0</td>\n",
              "    </tr>\n",
              "    <tr>\n",
              "      <th>4153</th>\n",
              "      <td>4153</td>\n",
              "      <td>15-Agu-18</td>\n",
              "      <td>Belum Ada Rencana Ujian Nasional 2019 Diseleng...</td>\n",
              "      <td>Kepala BSNP, Bambang Suryadi menjelaskan isu U...</td>\n",
              "      <td>0</td>\n",
              "    </tr>\n",
              "    <tr>\n",
              "      <th>1679</th>\n",
              "      <td>1679</td>\n",
              "      <td>14-Mar-18</td>\n",
              "      <td>@Rudiantara_Id: Tweet @Partaihulk Ini Mengandu...</td>\n",
              "      <td>Slmt pagi. Tweet @PartaiHulk ini mengandung fi...</td>\n",
              "      <td>0</td>\n",
              "    </tr>\n",
              "    <tr>\n",
              "      <th>164</th>\n",
              "      <td>164</td>\n",
              "      <td>22-Apr-19</td>\n",
              "      <td>15 Kotak Suara Dprd Jambi Dibakar Otk</td>\n",
              "      <td>Berita Pagi ini di TV One, Berhubung 02 unggul...</td>\n",
              "      <td>0</td>\n",
              "    </tr>\n",
              "    <tr>\n",
              "      <th>2896</th>\n",
              "      <td>2896</td>\n",
              "      <td>30-Sep-16</td>\n",
              "      <td>Tidak Ada Media Yang Meliput Demo Buruh Di Dep...</td>\n",
              "      <td>Tidak Ada Media Yang Meliput Demo Buruh Di Dep...</td>\n",
              "      <td>0</td>\n",
              "    </tr>\n",
              "    <tr>\n",
              "      <th>807</th>\n",
              "      <td>807</td>\n",
              "      <td>27-Dec-17</td>\n",
              "      <td>Membumikan Bikini Di Tempat Umum Dengan Selfie</td>\n",
              "      <td>Btw. Inilah Revolusi Mental Pancasila ala Joko...</td>\n",
              "      <td>0</td>\n",
              "    </tr>\n",
              "    <tr>\n",
              "      <th>22</th>\n",
              "      <td>22</td>\n",
              "      <td>8-Mar-17</td>\n",
              "      <td>Nezar Patria Adalah Kader Pki, Ikut Rapat Seti...</td>\n",
              "      <td>Nezar Patria adalah Kader PKI, Ikut Rapat Seti...</td>\n",
              "      <td>0</td>\n",
              "    </tr>\n",
              "    <tr>\n",
              "      <th>3440</th>\n",
              "      <td>3440</td>\n",
              "      <td>27-Nov-16</td>\n",
              "      <td>Nama Jalan Di Pulau Reklamasi</td>\n",
              "      <td>Nama jalan di Pulau Reklamasi, seriuuuuus ya m...</td>\n",
              "      <td>0</td>\n",
              "    </tr>\n",
              "  </tbody>\n",
              "</table>\n",
              "</div>"
            ],
            "text/plain": [
              "        ID    tanggal  ...                                             narasi label\n",
              "138    138   8-Feb-18  ...  Utk Kesekian kalinya terjadi Penganiayaan thdp...     0\n",
              "3790  3790  19-Sep-17  ...  PECAHHH!!! Ribuan Etnis China Singapura Turun ...     0\n",
              "2937  2937  19-Nov-16  ...  Sebenarnya, sesusah apa memberantas berita hoa...     0\n",
              "4153  4153  15-Agu-18  ...  Kepala BSNP, Bambang Suryadi menjelaskan isu U...     0\n",
              "1679  1679  14-Mar-18  ...  Slmt pagi. Tweet @PartaiHulk ini mengandung fi...     0\n",
              "164    164  22-Apr-19  ...  Berita Pagi ini di TV One, Berhubung 02 unggul...     0\n",
              "2896  2896  30-Sep-16  ...  Tidak Ada Media Yang Meliput Demo Buruh Di Dep...     0\n",
              "807    807  27-Dec-17  ...  Btw. Inilah Revolusi Mental Pancasila ala Joko...     0\n",
              "22      22   8-Mar-17  ...  Nezar Patria adalah Kader PKI, Ikut Rapat Seti...     0\n",
              "3440  3440  27-Nov-16  ...  Nama jalan di Pulau Reklamasi, seriuuuuus ya m...     0\n",
              "\n",
              "[10 rows x 5 columns]"
            ]
          },
          "metadata": {
            "tags": []
          },
          "execution_count": 11
        }
      ]
    },
    {
      "cell_type": "markdown",
      "metadata": {
        "id": "zQWk4bXC9esv"
      },
      "source": [
        "#####Remove Punctuation (??, .., !!, etc)"
      ]
    },
    {
      "cell_type": "code",
      "metadata": {
        "id": "kemxfFZ1EDx9",
        "colab": {
          "base_uri": "https://localhost:8080/",
          "height": 355
        },
        "outputId": "0a2954f6-10e9-4be8-fe0e-5750fc31854a"
      },
      "source": [
        "df = df.replace(r'[\\?\\.\\!\\#\\,\\>]+(?=[\\?\\.\\!\\#\\,\\>])', '', regex=True)\n",
        "df = df.replace(r'\\r\\n', ' ', regex=True)\n",
        "df.head(10)"
      ],
      "execution_count": 12,
      "outputs": [
        {
          "output_type": "execute_result",
          "data": {
            "text/html": [
              "<div>\n",
              "<style scoped>\n",
              "    .dataframe tbody tr th:only-of-type {\n",
              "        vertical-align: middle;\n",
              "    }\n",
              "\n",
              "    .dataframe tbody tr th {\n",
              "        vertical-align: top;\n",
              "    }\n",
              "\n",
              "    .dataframe thead th {\n",
              "        text-align: right;\n",
              "    }\n",
              "</style>\n",
              "<table border=\"1\" class=\"dataframe\">\n",
              "  <thead>\n",
              "    <tr style=\"text-align: right;\">\n",
              "      <th></th>\n",
              "      <th>ID</th>\n",
              "      <th>tanggal</th>\n",
              "      <th>judul</th>\n",
              "      <th>narasi</th>\n",
              "      <th>label</th>\n",
              "    </tr>\n",
              "  </thead>\n",
              "  <tbody>\n",
              "    <tr>\n",
              "      <th>138</th>\n",
              "      <td>138</td>\n",
              "      <td>8-Feb-18</td>\n",
              "      <td>Penganiayaan Ulama Di Bogor</td>\n",
              "      <td>Utk Kesekian kalinya terjadi Penganiayaan thdp...</td>\n",
              "      <td>0</td>\n",
              "    </tr>\n",
              "    <tr>\n",
              "      <th>3790</th>\n",
              "      <td>3790</td>\n",
              "      <td>19-Sep-17</td>\n",
              "      <td>: Ribuan Etnis China Singapura Turun Ke Jalan ...</td>\n",
              "      <td>PECAHHH! Ribuan Etnis China Singapura Turun ke...</td>\n",
              "      <td>0</td>\n",
              "    </tr>\n",
              "    <tr>\n",
              "      <th>2937</th>\n",
              "      <td>2937</td>\n",
              "      <td>19-Nov-16</td>\n",
              "      <td>4 Mahasiswa Hanya Butuh 36 Jam Atasi Hoax Di F...</td>\n",
              "      <td>Sebenarnya, sesusah apa memberantas berita hoa...</td>\n",
              "      <td>0</td>\n",
              "    </tr>\n",
              "    <tr>\n",
              "      <th>4153</th>\n",
              "      <td>4153</td>\n",
              "      <td>15-Agu-18</td>\n",
              "      <td>Belum Ada Rencana Ujian Nasional 2019 Diseleng...</td>\n",
              "      <td>Kepala BSNP, Bambang Suryadi menjelaskan isu U...</td>\n",
              "      <td>0</td>\n",
              "    </tr>\n",
              "    <tr>\n",
              "      <th>1679</th>\n",
              "      <td>1679</td>\n",
              "      <td>14-Mar-18</td>\n",
              "      <td>@Rudiantara_Id: Tweet @Partaihulk Ini Mengandu...</td>\n",
              "      <td>Slmt pagi. Tweet @PartaiHulk ini mengandung fi...</td>\n",
              "      <td>0</td>\n",
              "    </tr>\n",
              "    <tr>\n",
              "      <th>164</th>\n",
              "      <td>164</td>\n",
              "      <td>22-Apr-19</td>\n",
              "      <td>15 Kotak Suara Dprd Jambi Dibakar Otk</td>\n",
              "      <td>Berita Pagi ini di TV One, Berhubung 02 unggul...</td>\n",
              "      <td>0</td>\n",
              "    </tr>\n",
              "    <tr>\n",
              "      <th>2896</th>\n",
              "      <td>2896</td>\n",
              "      <td>30-Sep-16</td>\n",
              "      <td>Tidak Ada Media Yang Meliput Demo Buruh Di Dep...</td>\n",
              "      <td>Tidak Ada Media Yang Meliput Demo Buruh Di Dep...</td>\n",
              "      <td>0</td>\n",
              "    </tr>\n",
              "    <tr>\n",
              "      <th>807</th>\n",
              "      <td>807</td>\n",
              "      <td>27-Dec-17</td>\n",
              "      <td>Membumikan Bikini Di Tempat Umum Dengan Selfie</td>\n",
              "      <td>Btw. Inilah Revolusi Mental Pancasila ala Joko...</td>\n",
              "      <td>0</td>\n",
              "    </tr>\n",
              "    <tr>\n",
              "      <th>22</th>\n",
              "      <td>22</td>\n",
              "      <td>8-Mar-17</td>\n",
              "      <td>Nezar Patria Adalah Kader Pki, Ikut Rapat Seti...</td>\n",
              "      <td>Nezar Patria adalah Kader PKI, Ikut Rapat Seti...</td>\n",
              "      <td>0</td>\n",
              "    </tr>\n",
              "    <tr>\n",
              "      <th>3440</th>\n",
              "      <td>3440</td>\n",
              "      <td>27-Nov-16</td>\n",
              "      <td>Nama Jalan Di Pulau Reklamasi</td>\n",
              "      <td>Nama jalan di Pulau Reklamasi, seriuuuuus ya m...</td>\n",
              "      <td>0</td>\n",
              "    </tr>\n",
              "  </tbody>\n",
              "</table>\n",
              "</div>"
            ],
            "text/plain": [
              "        ID    tanggal  ...                                             narasi label\n",
              "138    138   8-Feb-18  ...  Utk Kesekian kalinya terjadi Penganiayaan thdp...     0\n",
              "3790  3790  19-Sep-17  ...  PECAHHH! Ribuan Etnis China Singapura Turun ke...     0\n",
              "2937  2937  19-Nov-16  ...  Sebenarnya, sesusah apa memberantas berita hoa...     0\n",
              "4153  4153  15-Agu-18  ...  Kepala BSNP, Bambang Suryadi menjelaskan isu U...     0\n",
              "1679  1679  14-Mar-18  ...  Slmt pagi. Tweet @PartaiHulk ini mengandung fi...     0\n",
              "164    164  22-Apr-19  ...  Berita Pagi ini di TV One, Berhubung 02 unggul...     0\n",
              "2896  2896  30-Sep-16  ...  Tidak Ada Media Yang Meliput Demo Buruh Di Dep...     0\n",
              "807    807  27-Dec-17  ...  Btw. Inilah Revolusi Mental Pancasila ala Joko...     0\n",
              "22      22   8-Mar-17  ...  Nezar Patria adalah Kader PKI, Ikut Rapat Seti...     0\n",
              "3440  3440  27-Nov-16  ...  Nama jalan di Pulau Reklamasi, seriuuuuus ya m...     0\n",
              "\n",
              "[10 rows x 5 columns]"
            ]
          },
          "metadata": {
            "tags": []
          },
          "execution_count": 12
        }
      ]
    },
    {
      "cell_type": "markdown",
      "metadata": {
        "id": "SrjB__qYSKn3"
      },
      "source": [
        "#### Drop unecessary column"
      ]
    },
    {
      "cell_type": "code",
      "metadata": {
        "id": "5xJ6JqGHBIts",
        "colab": {
          "base_uri": "https://localhost:8080/",
          "height": 202
        },
        "outputId": "d4d3030a-5855-487f-af75-ef81f20c2804"
      },
      "source": [
        "df = df.drop(['ID'], axis=1)\r\n",
        "df.head()"
      ],
      "execution_count": 13,
      "outputs": [
        {
          "output_type": "execute_result",
          "data": {
            "text/html": [
              "<div>\n",
              "<style scoped>\n",
              "    .dataframe tbody tr th:only-of-type {\n",
              "        vertical-align: middle;\n",
              "    }\n",
              "\n",
              "    .dataframe tbody tr th {\n",
              "        vertical-align: top;\n",
              "    }\n",
              "\n",
              "    .dataframe thead th {\n",
              "        text-align: right;\n",
              "    }\n",
              "</style>\n",
              "<table border=\"1\" class=\"dataframe\">\n",
              "  <thead>\n",
              "    <tr style=\"text-align: right;\">\n",
              "      <th></th>\n",
              "      <th>tanggal</th>\n",
              "      <th>judul</th>\n",
              "      <th>narasi</th>\n",
              "      <th>label</th>\n",
              "    </tr>\n",
              "  </thead>\n",
              "  <tbody>\n",
              "    <tr>\n",
              "      <th>138</th>\n",
              "      <td>8-Feb-18</td>\n",
              "      <td>Penganiayaan Ulama Di Bogor</td>\n",
              "      <td>Utk Kesekian kalinya terjadi Penganiayaan thdp...</td>\n",
              "      <td>0</td>\n",
              "    </tr>\n",
              "    <tr>\n",
              "      <th>3790</th>\n",
              "      <td>19-Sep-17</td>\n",
              "      <td>: Ribuan Etnis China Singapura Turun Ke Jalan ...</td>\n",
              "      <td>PECAHHH! Ribuan Etnis China Singapura Turun ke...</td>\n",
              "      <td>0</td>\n",
              "    </tr>\n",
              "    <tr>\n",
              "      <th>2937</th>\n",
              "      <td>19-Nov-16</td>\n",
              "      <td>4 Mahasiswa Hanya Butuh 36 Jam Atasi Hoax Di F...</td>\n",
              "      <td>Sebenarnya, sesusah apa memberantas berita hoa...</td>\n",
              "      <td>0</td>\n",
              "    </tr>\n",
              "    <tr>\n",
              "      <th>4153</th>\n",
              "      <td>15-Agu-18</td>\n",
              "      <td>Belum Ada Rencana Ujian Nasional 2019 Diseleng...</td>\n",
              "      <td>Kepala BSNP, Bambang Suryadi menjelaskan isu U...</td>\n",
              "      <td>0</td>\n",
              "    </tr>\n",
              "    <tr>\n",
              "      <th>1679</th>\n",
              "      <td>14-Mar-18</td>\n",
              "      <td>@Rudiantara_Id: Tweet @Partaihulk Ini Mengandu...</td>\n",
              "      <td>Slmt pagi. Tweet @PartaiHulk ini mengandung fi...</td>\n",
              "      <td>0</td>\n",
              "    </tr>\n",
              "  </tbody>\n",
              "</table>\n",
              "</div>"
            ],
            "text/plain": [
              "        tanggal  ... label\n",
              "138    8-Feb-18  ...     0\n",
              "3790  19-Sep-17  ...     0\n",
              "2937  19-Nov-16  ...     0\n",
              "4153  15-Agu-18  ...     0\n",
              "1679  14-Mar-18  ...     0\n",
              "\n",
              "[5 rows x 4 columns]"
            ]
          },
          "metadata": {
            "tags": []
          },
          "execution_count": 13
        }
      ]
    },
    {
      "cell_type": "code",
      "metadata": {
        "id": "e51Z7RToRkUW"
      },
      "source": [
        "df = df.astype({'tanggal': 'object', 'judul': 'object', 'narasi':'object', 'label': 'int64'})"
      ],
      "execution_count": 14,
      "outputs": []
    },
    {
      "cell_type": "markdown",
      "metadata": {
        "id": "a-g0vA4w9aqV"
      },
      "source": [
        "####Export Dataframe"
      ]
    },
    {
      "cell_type": "code",
      "metadata": {
        "id": "FBwlZY3F6136"
      },
      "source": [
        "# df.to_csv('data_resample.csv') \n",
        "# files.download('data_resample.csv')"
      ],
      "execution_count": 15,
      "outputs": []
    },
    {
      "cell_type": "markdown",
      "metadata": {
        "id": "hi3ExEnHWbEv"
      },
      "source": [
        "## Split Data (Train, Validation, Test)\r\n"
      ]
    },
    {
      "cell_type": "code",
      "metadata": {
        "id": "9WZyesv6XB16"
      },
      "source": [
        "pd.set_option(\"display.max_rows\", None, \"display.max_columns\", None, \"display.max_colwidth\", None)\r\n",
        "dataset = 'https://raw.githubusercontent.com/garynico/IndoBERT-Hoax/main/data_resample.csv'\r\n",
        "\r\n",
        "df = pd.read_csv(dataset)\r\n",
        "df = df.drop(['Unnamed: 0'], axis=1)"
      ],
      "execution_count": 16,
      "outputs": []
    },
    {
      "cell_type": "code",
      "metadata": {
        "id": "0wjcI-eMXQ9C",
        "colab": {
          "base_uri": "https://localhost:8080/",
          "height": 427
        },
        "outputId": "c011096d-7fa1-45a9-8beb-46b7cc98d7f1"
      },
      "source": [
        "# Shuffle Data\r\n",
        "df = df.sample(frac=1).reset_index(drop=True)\r\n",
        "df.head()"
      ],
      "execution_count": 17,
      "outputs": [
        {
          "output_type": "execute_result",
          "data": {
            "text/html": [
              "<div>\n",
              "<style scoped>\n",
              "    .dataframe tbody tr th:only-of-type {\n",
              "        vertical-align: middle;\n",
              "    }\n",
              "\n",
              "    .dataframe tbody tr th {\n",
              "        vertical-align: top;\n",
              "    }\n",
              "\n",
              "    .dataframe thead th {\n",
              "        text-align: right;\n",
              "    }\n",
              "</style>\n",
              "<table border=\"1\" class=\"dataframe\">\n",
              "  <thead>\n",
              "    <tr style=\"text-align: right;\">\n",
              "      <th></th>\n",
              "      <th>tanggal</th>\n",
              "      <th>judul</th>\n",
              "      <th>narasi</th>\n",
              "      <th>label</th>\n",
              "    </tr>\n",
              "  </thead>\n",
              "  <tbody>\n",
              "    <tr>\n",
              "      <th>0</th>\n",
              "      <td>5-Aug-20</td>\n",
              "      <td>Gambar Perjuangan Fpi Tahun 1940 Melawan Penjajah Dari Belanda</td>\n",
              "      <td>Perjuangan FPI tahun 1940 melawan penjajah dari Belanda. Subhanallah</td>\n",
              "      <td>1</td>\n",
              "    </tr>\n",
              "    <tr>\n",
              "      <th>1</th>\n",
              "      <td>17-Feb-18</td>\n",
              "      <td>Yang Berminat Menjadi Anggota Pki Silahkan Daftarkan Diri Anda</td>\n",
              "      <td>Yang berminat menjadi anggota PKI silahkan daftarkan diri anda  saat ini jumlah anggota PKI sudah sampai 30.000.000 anggota</td>\n",
              "      <td>0</td>\n",
              "    </tr>\n",
              "    <tr>\n",
              "      <th>2</th>\n",
              "      <td>5-Jul-18</td>\n",
              "      <td>Tanda Tangan Anies Baswedan Dalam Surat Larangan Penggunaan Kawasan Monas Oleh Aktivis 98</td>\n",
              "      <td>002/Rembuknas 98/VI/2018</td>\n",
              "      <td>1</td>\n",
              "    </tr>\n",
              "    <tr>\n",
              "      <th>3</th>\n",
              "      <td>18-Sep-18</td>\n",
              "      <td>Tidak Semua Operator Seluler Menyediakan Rbt Jokowi Saja</td>\n",
              "      <td>Program tersebut tidak ada, ujar General Manager External Corporate Communication Telkomsel, Denny Abidin, Senin (17/9).</td>\n",
              "      <td>0</td>\n",
              "    </tr>\n",
              "    <tr>\n",
              "      <th>4</th>\n",
              "      <td>7-Jan-17</td>\n",
              "      <td>Mastel Turut Optimalkan Peran Stakeholder Sektor Telematika Dalam Melawan Penyebaran Hoax</td>\n",
              "      <td>Masyarakat Telematika Indonesia (MASTEL) memandang momen Aksi Turn Back Hoax yang akan diselenggarakan oleh Masyarakat Anti Fitnah Indonesia (Mafindo) secara serentak di 7 Kota pada hari Minggu, 8 Januari 2017, memiliki makna yang penting. Sebab, aksi ini akan melibatkan masyarakat secara terbuka dan mengedepankan peran masyarakat sebagai pelaku sentral dalam membangun kondusivitas kehidupan bermasyarakat, berbangsa dan bernegara</td>\n",
              "      <td>0</td>\n",
              "    </tr>\n",
              "  </tbody>\n",
              "</table>\n",
              "</div>"
            ],
            "text/plain": [
              "     tanggal  \\\n",
              "0   5-Aug-20   \n",
              "1  17-Feb-18   \n",
              "2   5-Jul-18   \n",
              "3  18-Sep-18   \n",
              "4   7-Jan-17   \n",
              "\n",
              "                                                                                       judul  \\\n",
              "0                             Gambar Perjuangan Fpi Tahun 1940 Melawan Penjajah Dari Belanda   \n",
              "1                             Yang Berminat Menjadi Anggota Pki Silahkan Daftarkan Diri Anda   \n",
              "2  Tanda Tangan Anies Baswedan Dalam Surat Larangan Penggunaan Kawasan Monas Oleh Aktivis 98   \n",
              "3                                   Tidak Semua Operator Seluler Menyediakan Rbt Jokowi Saja   \n",
              "4  Mastel Turut Optimalkan Peran Stakeholder Sektor Telematika Dalam Melawan Penyebaran Hoax   \n",
              "\n",
              "                                                                                                                                                                                                                                                                                                                                                                                                                                              narasi  \\\n",
              "0                                                                                                                                                                                                                                                                                                                                                                               Perjuangan FPI tahun 1940 melawan penjajah dari Belanda. Subhanallah   \n",
              "1                                                                                                                                                                                                                                                                                                                        Yang berminat menjadi anggota PKI silahkan daftarkan diri anda  saat ini jumlah anggota PKI sudah sampai 30.000.000 anggota   \n",
              "2                                                                                                                                                                                                                                                                                                                                                                                                                           002/Rembuknas 98/VI/2018   \n",
              "3                                                                                                                                                                                                                                                                                                                           Program tersebut tidak ada, ujar General Manager External Corporate Communication Telkomsel, Denny Abidin, Senin (17/9).   \n",
              "4  Masyarakat Telematika Indonesia (MASTEL) memandang momen Aksi Turn Back Hoax yang akan diselenggarakan oleh Masyarakat Anti Fitnah Indonesia (Mafindo) secara serentak di 7 Kota pada hari Minggu, 8 Januari 2017, memiliki makna yang penting. Sebab, aksi ini akan melibatkan masyarakat secara terbuka dan mengedepankan peran masyarakat sebagai pelaku sentral dalam membangun kondusivitas kehidupan bermasyarakat, berbangsa dan bernegara   \n",
              "\n",
              "   label  \n",
              "0      1  \n",
              "1      0  \n",
              "2      1  \n",
              "3      0  \n",
              "4      0  "
            ]
          },
          "metadata": {
            "tags": []
          },
          "execution_count": 17
        }
      ]
    },
    {
      "cell_type": "code",
      "metadata": {
        "id": "xzbXZWRXXWjr"
      },
      "source": [
        "first_n_words = 200\r\n",
        "\r\n",
        "def trim_string(x):\r\n",
        "\r\n",
        "    x = x.split(maxsplit=first_n_words)\r\n",
        "    x = ' '.join(x[:first_n_words])\r\n",
        "\r\n",
        "    return x"
      ],
      "execution_count": 18,
      "outputs": []
    },
    {
      "cell_type": "code",
      "metadata": {
        "id": "PHHfLf9yXc0E"
      },
      "source": [
        "# Ratio\r\n",
        "train_test_ratio = 0.80\r\n",
        "train_valid_ratio = 0.80\r\n",
        "\r\n",
        "# Trim text and titletext to first_n_words\r\n",
        "df['narasi'] = df['narasi'].apply(trim_string)\r\n",
        "\r\n",
        "df_real = df[df['label'] == 0] \r\n",
        "df_fake = df[df['label'] == 1] \r\n",
        "\r\n",
        "# Train-test split\r\n",
        "df_real_full_train, df_real_test = train_test_split(df_real, train_size = train_test_ratio, random_state = 1)\r\n",
        "df_fake_full_train, df_fake_test = train_test_split(df_fake, train_size = train_test_ratio, random_state = 1)\r\n",
        "\r\n",
        "df_real_train, df_real_valid = train_test_split(df_real_full_train, train_size = train_valid_ratio, random_state = 1)\r\n",
        "df_fake_train, df_fake_valid = train_test_split(df_fake_full_train, train_size = train_valid_ratio, random_state = 1)\r\n",
        "\r\n",
        "# Concatenate splits of different labels\r\n",
        "df_train = pd.concat([df_real_train, df_fake_train], ignore_index=True, sort=False)\r\n",
        "df_valid = pd.concat([df_real_valid, df_fake_valid], ignore_index=True, sort=False)\r\n",
        "df_test = pd.concat([df_real_test, df_fake_test], ignore_index=True, sort=False)\r\n",
        "\r\n",
        "# Shuffle Data\r\n",
        "df_train = df_train.sample(frac=1).reset_index(drop=True)\r\n",
        "df_test = df_test.sample(frac=1).reset_index(drop=True)\r\n",
        "df_valid = df_valid.sample(frac=1).reset_index(drop=True)\r\n",
        "\r\n",
        "# Write preprocessed data\r\n",
        "df_train.to_csv(destination_folder_data + '/train.csv', index=False)\r\n",
        "df_valid.to_csv(destination_folder_data + '/valid.csv', index=False)\r\n",
        "df_test.to_csv(destination_folder_data + '/test.csv', index=False)"
      ],
      "execution_count": 19,
      "outputs": []
    }
  ]
}