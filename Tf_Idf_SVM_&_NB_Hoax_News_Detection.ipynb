{
  "nbformat": 4,
  "nbformat_minor": 0,
  "metadata": {
    "accelerator": "GPU",
    "colab": {
      "name": "Tf-Idf -  SVM & NB Hoax News Detection.ipynb",
      "provenance": [],
      "authorship_tag": "ABX9TyOC1y4eOY7B6s3Qg/S/i3Fh",
      "include_colab_link": true
    },
    "kernelspec": {
      "display_name": "Python 3",
      "name": "python3"
    }
  },
  "cells": [
    {
      "cell_type": "markdown",
      "metadata": {
        "id": "view-in-github",
        "colab_type": "text"
      },
      "source": [
        "<a href=\"https://colab.research.google.com/github/garynico/IndoBERT-Hoax/blob/main/Tf_Idf_SVM_%26_NB_Hoax_News_Detection.ipynb\" target=\"_parent\"><img src=\"https://colab.research.google.com/assets/colab-badge.svg\" alt=\"Open In Colab\"/></a>"
      ]
    },
    {
      "cell_type": "code",
      "metadata": {
        "colab": {
          "base_uri": "https://localhost:8080/"
        },
        "id": "228d9ASE3xn4",
        "outputId": "49bf2025-3b9c-4c01-9e47-4f1e7c1d3b2f"
      },
      "source": [
        "import pandas as pd\r\n",
        "import numpy as np\r\n",
        "import nltk\r\n",
        "nltk.download('punkt')\r\n",
        "from nltk.tokenize import word_tokenize\r\n",
        "from nltk.corpus import stopwords\r\n",
        "from sklearn.preprocessing import LabelEncoder\r\n",
        "from sklearn.feature_extraction.text import TfidfVectorizer\r\n",
        "from sklearn import model_selection, naive_bayes, svm\r\n",
        "from sklearn.metrics import accuracy_score\r\n",
        "from sklearn.model_selection import train_test_split\r\n",
        "!pip install Sastrawi\r\n",
        "from Sastrawi.Stemmer.StemmerFactory import StemmerFactory\r\n",
        "import matplotlib.pyplot as plt\r\n",
        "from sklearn.metrics import confusion_matrix, classification_report, plot_confusion_matrix"
      ],
      "execution_count": 1,
      "outputs": [
        {
          "output_type": "stream",
          "text": [
            "[nltk_data] Downloading package punkt to /root/nltk_data...\n",
            "[nltk_data]   Unzipping tokenizers/punkt.zip.\n",
            "Collecting Sastrawi\n",
            "\u001b[?25l  Downloading https://files.pythonhosted.org/packages/6f/4b/bab676953da3103003730b8fcdfadbdd20f333d4add10af949dd5c51e6ed/Sastrawi-1.0.1-py2.py3-none-any.whl (209kB)\n",
            "\u001b[K     |████████████████████████████████| 215kB 10.5MB/s \n",
            "\u001b[?25hInstalling collected packages: Sastrawi\n",
            "Successfully installed Sastrawi-1.0.1\n"
          ],
          "name": "stdout"
        }
      ]
    },
    {
      "cell_type": "code",
      "metadata": {
        "id": "It1JOE-G4b7T"
      },
      "source": [
        "np.random.seed(500)"
      ],
      "execution_count": 2,
      "outputs": []
    },
    {
      "cell_type": "code",
      "metadata": {
        "id": "1ixNcGn64d_3"
      },
      "source": [
        "factory = StemmerFactory()\r\n",
        "stemmer = factory.create_stemmer()\r\n",
        "Encoder = LabelEncoder()\r\n",
        "Tfidf_vect = TfidfVectorizer()"
      ],
      "execution_count": 3,
      "outputs": []
    },
    {
      "cell_type": "markdown",
      "metadata": {
        "id": "wZIeV85tIQip"
      },
      "source": [
        "## SVM"
      ]
    },
    {
      "cell_type": "code",
      "metadata": {
        "id": "HxyscWuZ4gRL",
        "colab": {
          "base_uri": "https://localhost:8080/"
        },
        "outputId": "fa7561ee-503d-49c4-ef7a-22cdf06819df"
      },
      "source": [
        "\r\n",
        "# Open Datasets\r\n",
        "datasets = pd.read_csv('https://raw.githubusercontent.com/garynico/IndoBERT-Hoax/main/data_resample.csv')\r\n",
        "print(datasets[\"label\"].value_counts())\r\n",
        "\r\n",
        "# Text Normalization using\r\n",
        "# PySastrawi(Word Stemmer for Bahasa Indonesia)\r\n",
        "lower = [stemmer.stem(row.lower()) for row in datasets[\"narasi\"]]\r\n",
        "vectors = [word_tokenize(element) for element in lower]\r\n",
        "labels = datasets[\"label\"]\r\n",
        "\r\n",
        "# Splitting Datasets for feeding to Machine Learning\r\n",
        "Train_X, Test_X, Train_Y, Test_Y = train_test_split(\r\n",
        "    vectors, labels, test_size=0.2, stratify=labels)\r\n",
        "\r\n",
        "# Encoder for Data Label\r\n",
        "Train_Y = Encoder.fit_transform(Train_Y)\r\n",
        "Test_Y = Encoder.fit_transform(Test_Y)\r\n",
        "\r\n",
        "# Create Tfidf Vector\r\n",
        "Tfidf_vect.fit([\"\".join(row) for row in lower])\r\n",
        "\r\n",
        "# Applying Tfidf for Training and Testing Features\r\n",
        "Train_X_Tfidf = Tfidf_vect.transform([\" \".join(row) for row in Train_X])\r\n",
        "Test_X_Tfidf = Tfidf_vect.transform([\" \".join(row) for row in Test_X])\r\n",
        "\r\n",
        "# Classifier - Algorithm - SVM\r\n",
        "# fit the training dataset on the classifier\r\n",
        "SVM = svm.SVC(C=1.0, kernel='linear', degree=1, gamma=\"auto\", verbose=True)\r\n",
        "SVM.fit(Train_X_Tfidf, Train_Y)  # predict the labels on validation dataset\r\n",
        "# Use accuracy_score function to get the accuracy\r\n",
        "predictions_SVM = SVM.predict(Test_X_Tfidf)\r\n",
        "print(\"SVM Accuracy Score -> \", accuracy_score(predictions_SVM, Test_Y)*100)"
      ],
      "execution_count": 4,
      "outputs": [
        {
          "output_type": "stream",
          "text": [
            "1    3465\n",
            "0    3465\n",
            "Name: label, dtype: int64\n",
            "[LibSVM]SVM Accuracy Score ->  89.8989898989899\n"
          ],
          "name": "stdout"
        }
      ]
    },
    {
      "cell_type": "code",
      "metadata": {
        "colab": {
          "base_uri": "https://localhost:8080/"
        },
        "id": "Oxo66yBfPoGb",
        "outputId": "38709971-1bd9-4554-d433-7d6313743a77"
      },
      "source": [
        "print(\"\\nConfusion Matrix of SVM Classifier:\\n\")\r\n",
        "print(confusion_matrix(predictions_SVM, Test_Y))\r\n",
        "print(\"\\nClassification Report of SVM Classifier:\\n\")\r\n",
        "print(classification_report(predictions_SVM, Test_Y)) "
      ],
      "execution_count": 5,
      "outputs": [
        {
          "output_type": "stream",
          "text": [
            "\n",
            "Confusion Matrix of SVM Classifier:\n",
            "\n",
            "[[644  91]\n",
            " [ 49 602]]\n",
            "\n",
            "Classification Report of SVM Classifier:\n",
            "\n",
            "              precision    recall  f1-score   support\n",
            "\n",
            "           0       0.93      0.88      0.90       735\n",
            "           1       0.87      0.92      0.90       651\n",
            "\n",
            "    accuracy                           0.90      1386\n",
            "   macro avg       0.90      0.90      0.90      1386\n",
            "weighted avg       0.90      0.90      0.90      1386\n",
            "\n"
          ],
          "name": "stdout"
        }
      ]
    },
    {
      "cell_type": "markdown",
      "metadata": {
        "id": "yko-6jEGINJk"
      },
      "source": [
        "## Naive Bayes"
      ]
    },
    {
      "cell_type": "code",
      "metadata": {
        "id": "EUUM6UBeISc_"
      },
      "source": [
        "from sklearn.naive_bayes import MultinomialNB"
      ],
      "execution_count": 6,
      "outputs": []
    },
    {
      "cell_type": "code",
      "metadata": {
        "colab": {
          "base_uri": "https://localhost:8080/"
        },
        "id": "omjGLPa5JG5G",
        "outputId": "5c09ef01-7386-45e7-b457-808fbfdbafff"
      },
      "source": [
        "naive_bayes_classifier = MultinomialNB()\r\n",
        "naive_bayes_classifier.fit(Train_X_Tfidf, Train_Y)\r\n",
        "\r\n",
        "predictions_NB = naive_bayes_classifier.predict(Test_X_Tfidf)\r\n",
        "\r\n",
        "# compute the performance measures\r\n",
        "score = accuracy_score(predictions_NB, Test_Y)\r\n",
        "print(\"accuracy:   %0.3f\" % score)\r\n",
        "\r\n",
        "print(\"\\nConfusion Matrix of NB Classifier:\\n\")\r\n",
        "print(confusion_matrix(predictions_NB, Test_Y))\r\n",
        "print(\"\\nClassification Report of NB Classifier:\\n\")\r\n",
        "print(classification_report(predictions_NB, Test_Y)) "
      ],
      "execution_count": 10,
      "outputs": [
        {
          "output_type": "stream",
          "text": [
            "accuracy:   0.833\n",
            "\n",
            "Confusion Matrix of NB Classifier:\n",
            "\n",
            "[[657 196]\n",
            " [ 36 497]]\n",
            "\n",
            "Classification Report of NB Classifier:\n",
            "\n",
            "              precision    recall  f1-score   support\n",
            "\n",
            "           0       0.95      0.77      0.85       853\n",
            "           1       0.72      0.93      0.81       533\n",
            "\n",
            "    accuracy                           0.83      1386\n",
            "   macro avg       0.83      0.85      0.83      1386\n",
            "weighted avg       0.86      0.83      0.83      1386\n",
            "\n"
          ],
          "name": "stdout"
        }
      ]
    }
  ]
}